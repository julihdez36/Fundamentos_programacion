{
 "cells": [
  {
   "attachments": {},
   "cell_type": "markdown",
   "metadata": {},
   "source": [
    "## Sesión 1. introducción a python\n",
    "\n",
    "Python es un lenguaje de programación de alto nivel creado por Guido van Rossum y lanzado por primera vez en 1991. Es conocido por su simplicidad, legibilidad y enfoque en la facilidad de uso. Python se utiliza en una amplia variedad de aplicaciones, desde desarrollo web y científico hasta automatización de tareas y desarrollo de software en general.\n",
    "\n",
    "## Características de Python\n",
    "\n",
    "- Es un lenguaje interpretado, no compilado.\n",
    "- Usa tipado dinámico, lo que significa que una variable puede tomar valores de distinto tipo.\n",
    "- Es fuertemente tipado, lo que significa que el tipo no cambia de manera repentina. Para que se produzca un cambio de tipo tiene que hacer una conversión explícita.\n",
    "- Es multiplataforma, ya que un código escrito en macOS funciona en Windows o Linux y vice versa.\n",
    "- Es un lenguaje de programación de alto nivel\n",
    "- Comunidad activa (8.2 millones de personas en el mundo a fecha de 2019; PyCon)\n",
    "\n",
    "\n",
    "## The Zen of Python\n",
    "\n",
    "- Bello es mejor que feo.\n",
    "- Explícito es mejor que implícito.\n",
    "- Simple es mejor que complejo.\n",
    "- Complejo es mejor que complicado."
   ]
  },
  {
   "attachments": {},
   "cell_type": "markdown",
   "metadata": {},
   "source": [
    "### 2. Objetos en python\n",
    "\n",
    "En Python, todo es un objeto. Un objeto es una instancia de una clase, y las clases son las plantillas que definen la estructura y el comportamiento de los objetos.\n",
    "Un objeto es un lugar donde se pueden guardar valores; estos se declaran con un nombre y una asignación de contenido.\n",
    "Los objetos cotienen datos (atributos, variables) y funciones (métodos). Cuando asignamos un nombre a un objeto, estamos asignando esa variable a un objeto en particular."
   ]
  },
  {
   "cell_type": "code",
   "execution_count": 1,
   "metadata": {},
   "outputs": [
    {
     "name": "stdout",
     "output_type": "stream",
     "text": [
      "José 28\n"
     ]
    }
   ],
   "source": [
    "name = 'José'\n",
    "age = 28\n",
    "print(name, age) #print() es una función"
   ]
  },
  {
   "cell_type": "code",
   "execution_count": 5,
   "metadata": {},
   "outputs": [
    {
     "name": "stdout",
     "output_type": "stream",
     "text": [
      "Con Print puedo concatenar variables como un nombre, José , y una edad,  28 , usando la coma como separados y las comillas en sentenceos\n"
     ]
    }
   ],
   "source": [
    "print('Con Print puedo concatenar variables como un nombre,',name,', y una edad, ',age,', usando la coma como separados y las comillas')"
   ]
  },
  {
   "cell_type": "code",
   "execution_count": 28,
   "metadata": {},
   "outputs": [
    {
     "name": "stdout",
     "output_type": "stream",
     "text": [
      "Hello world\n",
      "Hello \n",
      " world\n"
     ]
    }
   ],
   "source": [
    "# Las función print()\n",
    "\n",
    "print('Hello world')\n",
    "\n",
    "print('Hello \\nworld') #caracter de escape"
   ]
  },
  {
   "cell_type": "code",
   "execution_count": 5,
   "metadata": {},
   "outputs": [
    {
     "name": "stdout",
     "output_type": "stream",
     "text": [
      "Tu nombre es Julián y tu edad es 29 años\n"
     ]
    }
   ],
   "source": [
    "# Nuestro primer programa con la función input\n",
    "\n",
    "name = input('¿Cuál es tu nombre')\n",
    "age = input('¿Cuántos años tienes')\n",
    "print('Tu nombre es', name, 'y tu edad es', age, 'años')"
   ]
  },
  {
   "cell_type": "code",
   "execution_count": 10,
   "metadata": {},
   "outputs": [
    {
     "ename": "TypeError",
     "evalue": "can only concatenate str (not \"int\") to str",
     "output_type": "error",
     "traceback": [
      "\u001b[1;31m---------------------------------------------------------------------------\u001b[0m",
      "\u001b[1;31mTypeError\u001b[0m                                 Traceback (most recent call last)",
      "Cell \u001b[1;32mIn[10], line 4\u001b[0m\n\u001b[0;32m      1\u001b[0m \u001b[39m# Creen un programa que le solicite la edad al usuario y le responda cuántos años va a tener en 7 años\u001b[39;00m\n\u001b[0;32m      3\u001b[0m edad \u001b[39m=\u001b[39m \u001b[39minput\u001b[39m(\u001b[39m'\u001b[39m\u001b[39m¿Cuántos años tienes\u001b[39m\u001b[39m'\u001b[39m)\n\u001b[1;32m----> 4\u001b[0m edadfutura \u001b[39m=\u001b[39m edad \u001b[39m+\u001b[39;49m \u001b[39m7\u001b[39;49m\n\u001b[0;32m      5\u001b[0m \u001b[39mprint\u001b[39m(\u001b[39m'\u001b[39m\u001b[39mTu edad en 7 años será\u001b[39m\u001b[39m'\u001b[39m, edadfutura, \u001b[39m'\u001b[39m\u001b[39maños\u001b[39m\u001b[39m'\u001b[39m)\n",
      "\u001b[1;31mTypeError\u001b[0m: can only concatenate str (not \"int\") to str"
     ]
    }
   ],
   "source": [
    "# Creen un programa que le solicite la edad al usuario y le responda cuántos años va a tener en 7 años\n",
    "\n",
    "edad = input('¿Cuántos años tienes')\n",
    "edadfutura = edad + 7\n",
    "print('Tu edad en 7 años será', edadfutura, 'años')\n",
    "\n",
    "#¿Cuál es el error?"
   ]
  },
  {
   "cell_type": "markdown",
   "metadata": {},
   "source": [
    "# Tipos de objetos en python\n",
    "\n",
    "En python existen cuatro tipos de variables: string [str], integer [int], float [float], booleanos [bool]"
   ]
  },
  {
   "cell_type": "code",
   "execution_count": 14,
   "metadata": {},
   "outputs": [
    {
     "data": {
      "text/plain": [
       "(int, str, bool, float)"
      ]
     },
     "execution_count": 14,
     "metadata": {},
     "output_type": "execute_result"
    }
   ],
   "source": [
    "num = 5\n",
    "string = 'Texto de ejemplo'\n",
    "booleano = True\n",
    "pi = 3.141592\n",
    "eje = 0\n",
    "\n",
    "type(num), type(string), type(booleano), type(pi)"
   ]
  },
  {
   "cell_type": "code",
   "execution_count": 15,
   "metadata": {},
   "outputs": [
    {
     "data": {
      "text/plain": [
       "False"
      ]
     },
     "execution_count": 15,
     "metadata": {},
     "output_type": "execute_result"
    }
   ],
   "source": [
    "# Coerción de objetos\n",
    "\n",
    "int(pi)\n",
    "int(booleano)\n",
    "str(num)\n",
    "bool(eje)"
   ]
  },
  {
   "cell_type": "code",
   "execution_count": 13,
   "metadata": {},
   "outputs": [
    {
     "name": "stdout",
     "output_type": "stream",
     "text": [
      "Julián López Hernández\n",
      "Julián López Hernández\n"
     ]
    }
   ],
   "source": [
    "###################################\n",
    "######## Variable String ##########\n",
    "\n",
    "name = 'Pedro'\n",
    "last_name = \"Páramo\"\n",
    "\n",
    "print(name, last_name) #Concatenación para impresión\n",
    "\n",
    "full_name = name + ' '+ last_name #Concatenación en la creación de una variable\n",
    "print(full_name)"
   ]
  },
  {
   "cell_type": "code",
   "execution_count": 12,
   "metadata": {},
   "outputs": [
    {
     "data": {
      "text/plain": [
       "(str, 22)"
      ]
     },
     "execution_count": 12,
     "metadata": {},
     "output_type": "execute_result"
    }
   ],
   "source": [
    "# Tipo y longitud \n",
    "\n",
    "type(full_name), len(full_name)"
   ]
  },
  {
   "cell_type": "code",
   "execution_count": 15,
   "metadata": {},
   "outputs": [
    {
     "name": "stdout",
     "output_type": "stream",
     "text": [
      "Hola, mi nombre es Julián y mis apellidos son López Hernández\n"
     ]
    }
   ],
   "source": [
    "# La forma mas popular de incorporar información a un string es con format o f\n",
    "\n",
    "sentence = f'Hola, mi nombre es {name} y mis apellidos son {last_name}'\n",
    "\n",
    "print(sentence)"
   ]
  },
  {
   "cell_type": "code",
   "execution_count": 19,
   "metadata": {},
   "outputs": [
    {
     "name": "stdout",
     "output_type": "stream",
     "text": [
      "Estamos aprendiendo ciencia de datos con python\n"
     ]
    }
   ],
   "source": [
    "##################################\n",
    "######## Métodos String ##########\n",
    "\n",
    "sentence = 'Estamos aprendiendo ciencia de datos con python'\n",
    "print(sentence)"
   ]
  },
  {
   "cell_type": "code",
   "execution_count": 18,
   "metadata": {},
   "outputs": [
    {
     "data": {
      "text/plain": [
       "-1"
      ]
     },
     "execution_count": 18,
     "metadata": {},
     "output_type": "execute_result"
    }
   ],
   "source": [
    "#Algunos métodos para los str\n",
    "sentence.count('a')\n",
    "sentence.upper()\n",
    "sentence.lower()\n",
    "sentence.startswith('Estamos')\n",
    "sentence.endswith('Python')\n",
    "sentence.capitalize()\n",
    "sentence.title()\n",
    "sentence.replace('Python','R')\n",
    "sentence.find('ciencia')"
   ]
  },
  {
   "cell_type": "code",
   "execution_count": 60,
   "metadata": {},
   "outputs": [
    {
     "name": "stdout",
     "output_type": "stream",
     "text": [
      "<class 'int'>\n",
      "<class 'float'>\n"
     ]
    }
   ],
   "source": [
    "##################################\n",
    "#### Variables int and float #####\n",
    "\n",
    "num = 5\n",
    "print(type(num))\n",
    "flo = 3.141592\n",
    "print(type(flo))\n",
    "# print(len(int))"
   ]
  },
  {
   "cell_type": "code",
   "execution_count": 29,
   "metadata": {},
   "outputs": [
    {
     "name": "stdout",
     "output_type": "stream",
     "text": [
      "8.141592\n"
     ]
    }
   ],
   "source": [
    "###################################\n",
    "# Operaciones aritméticas básicas #\n",
    "\n",
    "operacion = pi + num\n",
    "print(operacion)"
   ]
  },
  {
   "cell_type": "code",
   "execution_count": 31,
   "metadata": {},
   "outputs": [
    {
     "name": "stdout",
     "output_type": "stream",
     "text": [
      "6.141591999999999\n"
     ]
    }
   ],
   "source": [
    "#operacion = operacion -1\n",
    "operacion -= 1\n",
    "print(operacion)"
   ]
  },
  {
   "cell_type": "code",
   "execution_count": 38,
   "metadata": {},
   "outputs": [
    {
     "data": {
      "text/plain": [
       "(0.6283184, 15.70796, 3.141592, 9.869600294464002)"
      ]
     },
     "execution_count": 38,
     "metadata": {},
     "output_type": "execute_result"
    }
   ],
   "source": [
    "#Mas operaciones aritméticas\n",
    "\n",
    "pi/num , pi *num, pi % num , pi**2"
   ]
  },
  {
   "cell_type": "code",
   "execution_count": 39,
   "metadata": {},
   "outputs": [
    {
     "name": "stdout",
     "output_type": "stream",
     "text": [
      "3.1333333333333333\n"
     ]
    }
   ],
   "source": [
    "# Reporte de notas de tres cortes: 3.2, 2.2, 4, ¿paso la materia?\n",
    "\n",
    "agregado = 3.2+2.2+4\n",
    "promedio = agregado / 3\n",
    "print(promedio)"
   ]
  },
  {
   "cell_type": "code",
   "execution_count": 41,
   "metadata": {},
   "outputs": [
    {
     "name": "stdout",
     "output_type": "stream",
     "text": [
      "3.1333333333333333\n"
     ]
    }
   ],
   "source": [
    "agregado = [3.2, 2.2, 4]\n",
    "promedio = sum(agregado)/ len(agregado)\n",
    "print(promedio)"
   ]
  },
  {
   "cell_type": "code",
   "execution_count": 42,
   "metadata": {},
   "outputs": [
    {
     "name": "stdout",
     "output_type": "stream",
     "text": [
      "<class 'bool'>\n",
      "False\n",
      "False\n",
      "True\n"
     ]
    }
   ],
   "source": [
    "# Variables booleanas\n",
    "\n",
    "print(type(True))\n",
    "\n",
    "# Operadores lógicos\n",
    "\n",
    "print(not True) #Negación lógica\n",
    "print(True & False) #Conjunción lógica y\n",
    "print(True | False) #Disyunción lógica ó"
   ]
  },
  {
   "cell_type": "code",
   "execution_count": 20,
   "metadata": {},
   "outputs": [
    {
     "data": {
      "text/plain": [
       "True"
      ]
     },
     "execution_count": 20,
     "metadata": {},
     "output_type": "execute_result"
    }
   ],
   "source": [
    "# Operadores de comparación\n",
    "# >,<,==,!=\n",
    "\n",
    "False > True\n",
    "10/3 == 3.333\n",
    "10 != 3.333333 * 3"
   ]
  },
  {
   "cell_type": "code",
   "execution_count": 30,
   "metadata": {},
   "outputs": [
    {
     "name": "stdout",
     "output_type": "stream",
     "text": [
      "df\n",
      "df\n",
      "df\n",
      "df\n",
      "\n"
     ]
    }
   ],
   "source": [
    "'''\n",
    "Escribir un programa que pregunte el nombre del usuario en la consola y un número entero e imprima por pantalla en líneas distintas el nombre del usuario tantas veces como el número introducido.\n",
    "'''\n",
    "name = input('Escriba su nombre')\n",
    "number = int(input('Escriba un número entero'))\n",
    "\n",
    "print((name + '\\n')* int(number))"
   ]
  },
  {
   "cell_type": "code",
   "execution_count": 33,
   "metadata": {},
   "outputs": [
    {
     "name": "stdout",
     "output_type": "stream",
     "text": [
      "aloh\n"
     ]
    }
   ],
   "source": [
    "''''\n",
    "Escribir un programa que pida al usuario que introduzca una frase en la consola y muestre por pantalla la frase invertida.\n",
    "'''\n",
    "sentence = input('Escriba una frase: ')\n",
    "print(sentence[::-1])"
   ]
  },
  {
   "cell_type": "markdown",
   "metadata": {},
   "source": [
    "## Para casa\n",
    "Cree un programa en el que:\n",
    "1. Le solicite al usuario el nombre\n",
    "2. Guarde el nombre en una variable de tal forma que solamente las iniciales del nombre estén en mayúscula.\n",
    "3. Le solicite las notas de los tres cortes del semestre\n",
    "4. Calcule el promedio de las notas (recuerde que se trata de un promedio ponderado: 30%,30%,40%)\n",
    "5. Identifique si la nota es superior a 3.0 (nota con la que pasa)\n",
    "6. Imprima un mensaje formal en el que le indica si pasó o no la materia y cuál fue su calificación."
   ]
  }
 ],
 "metadata": {
  "kernelspec": {
   "display_name": "Python 3",
   "language": "python",
   "name": "python3"
  },
  "language_info": {
   "codemirror_mode": {
    "name": "ipython",
    "version": 3
   },
   "file_extension": ".py",
   "mimetype": "text/x-python",
   "name": "python",
   "nbconvert_exporter": "python",
   "pygments_lexer": "ipython3",
   "version": "3.12.2"
  },
  "orig_nbformat": 4
 },
 "nbformat": 4,
 "nbformat_minor": 2
}
