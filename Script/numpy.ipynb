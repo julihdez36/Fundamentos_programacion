{
 "cells": [
  {
   "cell_type": "markdown",
   "metadata": {},
   "source": [
    "# Python\n",
    "\n",
    "- Introducción (tipado, estructras de datos base, funciones nativas)\n",
    "- Estructuras de datos (indexación, filtrado)\n",
    "- Estructuras de control de flujo (condiciales [if, else, elif], blucles for, bucles while)\n",
    "- Definición de funciones (reusabilidad y modularidad; funciones lambda, funciones de orden superior: map, filter, resume)\n",
    "- Librerias"
   ]
  },
  {
   "cell_type": "markdown",
   "metadata": {},
   "source": [
    "## Librerías de python\n",
    "\n",
    "Paquete de información que convencionalmente contiene: datos, funciones, métodos, tipos de objetos, etc. permite extender la funcionalidad base de Python"
   ]
  },
  {
   "cell_type": "code",
   "execution_count": 2,
   "metadata": {},
   "outputs": [],
   "source": [
    "# Numpy\n",
    "'''\n",
    "from numpy import * \n",
    "from sklearn import linear_model\n",
    "'''\n",
    "\n",
    "import numpy as np # Array: escalar (dim = 0), vector (dim = 1), matriz (dim = 2), tensor (dim > 2)"
   ]
  },
  {
   "cell_type": "code",
   "execution_count": 7,
   "metadata": {},
   "outputs": [
    {
     "name": "stdout",
     "output_type": "stream",
     "text": [
      "[1, 2, 3, 4, 5, 6, 7, 8, 9, 10]\n",
      "<class 'list'>\n",
      "10\n"
     ]
    }
   ],
   "source": [
    "vector = list(range(1,11))\n",
    "print(vector)\n",
    "print(type(vector))\n",
    "print(len(vector))"
   ]
  },
  {
   "cell_type": "code",
   "execution_count": 8,
   "metadata": {},
   "outputs": [
    {
     "name": "stdout",
     "output_type": "stream",
     "text": [
      "[[0, 1, 2, 3, 4, 5], [5, 6, 7, 8, 9, 10], [10, 11, 12, 13, 14, 15], [15, 16, 17, 18, 19, 20], [20, 21, 22, 23, 24, 25]]\n",
      "<class 'list'>\n",
      "5\n"
     ]
    }
   ],
   "source": [
    "matriz = [list(range(6)),list(range(5,11)),list(range(10,16)),list(range(15,21)),list(range(20,26))]\n",
    "print(matriz)\n",
    "print(type(matriz))\n",
    "print(len(matriz))"
   ]
  },
  {
   "cell_type": "code",
   "execution_count": 9,
   "metadata": {},
   "outputs": [],
   "source": [
    "vector = np.array(vector)\n",
    "matriz = np.array(matriz)"
   ]
  },
  {
   "cell_type": "code",
   "execution_count": 10,
   "metadata": {},
   "outputs": [
    {
     "name": "stdout",
     "output_type": "stream",
     "text": [
      "[ 1  2  3  4  5  6  7  8  9 10]\n",
      "<class 'numpy.ndarray'>\n",
      "10\n"
     ]
    }
   ],
   "source": [
    "print(vector)\n",
    "print(type(vector))\n",
    "print(len(vector))"
   ]
  },
  {
   "cell_type": "code",
   "execution_count": 11,
   "metadata": {},
   "outputs": [
    {
     "name": "stdout",
     "output_type": "stream",
     "text": [
      "[[ 0  1  2  3  4  5]\n",
      " [ 5  6  7  8  9 10]\n",
      " [10 11 12 13 14 15]\n",
      " [15 16 17 18 19 20]\n",
      " [20 21 22 23 24 25]]\n",
      "<class 'numpy.ndarray'>\n",
      "5\n"
     ]
    }
   ],
   "source": [
    "print(matriz)\n",
    "print(type(matriz))\n",
    "print(len(matriz))"
   ]
  },
  {
   "cell_type": "code",
   "execution_count": 24,
   "metadata": {},
   "outputs": [
    {
     "data": {
      "text/plain": [
       "array([10,  9,  8,  7,  6,  5,  4,  3,  2,  1])"
      ]
     },
     "execution_count": 24,
     "metadata": {},
     "output_type": "execute_result"
    }
   ],
   "source": [
    "# Indexing and slicing\n",
    "\n",
    "vector[5] \n",
    "vector[2:4]\n",
    "vector[2:8:2] # start, stop, step\n",
    "vector[::-1]"
   ]
  },
  {
   "cell_type": "code",
   "execution_count": 30,
   "metadata": {},
   "outputs": [
    {
     "data": {
      "text/plain": [
       "array([[ 6,  7],\n",
       "       [11, 12],\n",
       "       [16, 17],\n",
       "       [21, 22]])"
      ]
     },
     "execution_count": 30,
     "metadata": {},
     "output_type": "execute_result"
    }
   ],
   "source": [
    "matriz[1:4]\n",
    "matriz[1,0] #Indexación a través de un sistema de referenciación de coordenadas bidimensionales (fila,columna)\n",
    "matriz[1:5,1:3]"
   ]
  },
  {
   "cell_type": "code",
   "execution_count": 32,
   "metadata": {},
   "outputs": [
    {
     "data": {
      "text/plain": [
       "array([584, 888, 634, 501, 627, 303, 539, 502, 526, 459, 596, 937, 407,\n",
       "       561, 538, 461, 455, 629, 861, 492])"
      ]
     },
     "execution_count": 32,
     "metadata": {},
     "output_type": "execute_result"
    }
   ],
   "source": [
    "# Métodos utiles en np para creación de vectors\n",
    "\n",
    "vector1 = np.random.randint(300,1000,20)\n",
    "vector1\n",
    "\n",
    "# Cambio de tipado: casting (cambio deliberado del objeto) coerción (automatico)\n"
   ]
  },
  {
   "cell_type": "code",
   "execution_count": 61,
   "metadata": {},
   "outputs": [],
   "source": [
    "def randint_mia(low,high,size=1):\n",
    "    import random\n",
    "    import numpy as np\n",
    "    vector = []\n",
    "    for i in range(size):\n",
    "        vector.append(random.randint(300,1000))\n",
    "    return np.array(vector)"
   ]
  },
  {
   "cell_type": "code",
   "execution_count": 62,
   "metadata": {},
   "outputs": [
    {
     "data": {
      "text/plain": [
       "array([609, 628, 687, 696, 500, 901, 331, 669, 363, 994, 532, 389, 724,\n",
       "       384, 817, 856, 589, 575, 575, 773])"
      ]
     },
     "execution_count": 62,
     "metadata": {},
     "output_type": "execute_result"
    }
   ],
   "source": [
    "randint_mia(300,1000,20)"
   ]
  },
  {
   "cell_type": "code",
   "execution_count": 67,
   "metadata": {},
   "outputs": [
    {
     "data": {
      "text/plain": [
       "array(['584', '888', '634', '501', '627', '303', '539', '502', '526',\n",
       "       '459', '596', '937', '407', '561', '538', '461', '455', '629',\n",
       "       '861', '492'], dtype='<U11')"
      ]
     },
     "execution_count": 67,
     "metadata": {},
     "output_type": "execute_result"
    }
   ],
   "source": [
    "vector1.astype(np.str_)"
   ]
  },
  {
   "cell_type": "code",
   "execution_count": 68,
   "metadata": {},
   "outputs": [
    {
     "data": {
      "text/plain": [
       "2"
      ]
     },
     "execution_count": 68,
     "metadata": {},
     "output_type": "execute_result"
    }
   ],
   "source": [
    "matriz.ndim"
   ]
  }
 ],
 "metadata": {
  "kernelspec": {
   "display_name": "Python 3",
   "language": "python",
   "name": "python3"
  },
  "language_info": {
   "codemirror_mode": {
    "name": "ipython",
    "version": 3
   },
   "file_extension": ".py",
   "mimetype": "text/x-python",
   "name": "python",
   "nbconvert_exporter": "python",
   "pygments_lexer": "ipython3",
   "version": "3.12.3"
  }
 },
 "nbformat": 4,
 "nbformat_minor": 2
}
