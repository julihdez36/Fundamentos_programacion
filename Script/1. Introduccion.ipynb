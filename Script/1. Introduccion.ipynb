{
 "cells": [
  {
   "attachments": {},
   "cell_type": "markdown",
   "metadata": {},
   "source": [
    "# Introducción a python\n",
    "\n",
    "Python es un lenguaje de programación de alto nivel creado por Guido van Rossum y lanzado por primera vez en 1991. Es conocido por su simplicidad, legibilidad y enfoque en la facilidad de uso. Python se utiliza en una amplia variedad de aplicaciones, desde desarrollo web y científico hasta automatización de tareas y desarrollo de software en general.\n",
    "\n",
    "## Características de Python\n",
    "\n",
    "- Es un lenguaje interpretado, no compilado.\n",
    "- Usa tipado dinámico, lo que significa que una variable puede tomar valores de distinto tipo.\n",
    "- Es fuertemente tipado, lo que significa que el tipo no cambia de manera repentina. Para que se produzca un cambio de tipo tiene que hacer una conversión explícita.\n",
    "- Es multiplataforma, ya que un código escrito en macOS funciona en Windows o Linux y vice versa.\n",
    "- Es un lenguaje de programación de alto nivel\n",
    "- Comunidad activa (8.2 millones de personas en el mundo a fecha de 2019; PyCon)\n",
    "\n",
    "\n",
    "## The Zen of Python\n",
    "\n",
    "El Zen de Python es una colección de los 19 principios que influyen en el diseño del lenguaje. Podría pensarse coo su filosofía. \n",
    "\n",
    "1. Bello es mejor que feo.\n",
    "2. Explícito es mejor que implícito.\n",
    "3. Simple es mejor que complejo.\n",
    "4. Complejo es mejor que complicado.\n",
    "7. La legibilidad es importante.\n",
    "8. Los casos especiales no son lo suficientemente especiales como para romper las reglas."
   ]
  },
  {
   "attachments": {},
   "cell_type": "markdown",
   "metadata": {},
   "source": [
    "## 1. Objetos en python\n",
    "\n",
    "En Python, todo es un objeto. Un objeto es una instancia de una clase, y las clases son las plantillas que definen la estructura y el comportamiento de los objetos.\n",
    "Un objeto es un lugar donde se pueden guardar valores; estos se declaran con un nombre y una asignación de contenido.\n",
    "Los objetos cotienen datos (atributos, variables) y funciones (métodos). Cuando asignamos un nombre a un objeto, estamos asignando esa variable a un objeto en particular."
   ]
  },
  {
   "cell_type": "code",
   "execution_count": 1,
   "metadata": {},
   "outputs": [
    {
     "name": "stdout",
     "output_type": "stream",
     "text": [
      "José 28\n"
     ]
    }
   ],
   "source": [
    "name = 'José'\n",
    "age = 28\n",
    "print(name, age) #print() es una función"
   ]
  },
  {
   "cell_type": "code",
   "execution_count": 5,
   "metadata": {},
   "outputs": [
    {
     "name": "stdout",
     "output_type": "stream",
     "text": [
      "Con Print puedo concatenar variables como un nombre, José , y una edad,  28 , usando la coma como separados y las comillas en sentenceos\n"
     ]
    }
   ],
   "source": [
    "print('Con Print puedo concatenar variables como un nombre,',name,', y una edad, ',age,', usando la coma como separados y las comillas')"
   ]
  },
  {
   "cell_type": "code",
   "execution_count": null,
   "metadata": {},
   "outputs": [],
   "source": [
    "# Hay palabras reservadas que no podemos utilizar como nombres de variables\n",
    "\n",
    "is = 4\n",
    "True = 'True'"
   ]
  },
  {
   "cell_type": "code",
   "execution_count": 28,
   "metadata": {},
   "outputs": [
    {
     "name": "stdout",
     "output_type": "stream",
     "text": [
      "Hello world\n",
      "Hello \n",
      " world\n"
     ]
    }
   ],
   "source": [
    "# Las función print()\n",
    "\n",
    "print('Hello world')\n",
    "\n",
    "print('Hello \\nworld') #caracter de escape"
   ]
  },
  {
   "cell_type": "code",
   "execution_count": 5,
   "metadata": {},
   "outputs": [
    {
     "name": "stdout",
     "output_type": "stream",
     "text": [
      "Tu nombre es Julián y tu edad es 29 años\n"
     ]
    }
   ],
   "source": [
    "# Nuestro primer programa con la función input\n",
    "\n",
    "name = input('¿Cuál es tu nombre')\n",
    "age = input('¿Cuántos años tienes')\n",
    "print('Tu nombre es', name, 'y tu edad es', age, 'años')"
   ]
  },
  {
   "cell_type": "code",
   "execution_count": null,
   "metadata": {},
   "outputs": [],
   "source": [
    "# Creen un programa que le solicite la edad al usuario y le responda cuántos años va a tener en 7 años\n",
    "\n",
    "edad = input('¿Cuántos años tienes')\n",
    "edadfutura = edad + 7\n",
    "print('Tu edad en 7 años será', edadfutura, 'años')\n",
    "\n",
    "#¿Cuál es el error?"
   ]
  },
  {
   "cell_type": "code",
   "execution_count": 15,
   "metadata": {},
   "outputs": [
    {
     "name": "stdout",
     "output_type": "stream",
     "text": [
      "Hola, mi nombre es Julián y mis apellidos son López Hernández\n"
     ]
    }
   ],
   "source": [
    "# La forma mas popular de incorporar información a un string es con format o f\n",
    "\n",
    "sentence = f'Hola, mi nombre es {name} y mis apellidos son {last_name}'\n",
    "\n",
    "print(sentence)"
   ]
  },
  {
   "cell_type": "markdown",
   "metadata": {},
   "source": [
    "## Tipos de datos en python\n",
    "\n",
    "En python existen cuatro tipos de variables: string [str], integer [int], float [float], booleanos [bool]"
   ]
  },
  {
   "cell_type": "code",
   "execution_count": 7,
   "metadata": {},
   "outputs": [
    {
     "data": {
      "text/plain": [
       "(int, str, bool, float)"
      ]
     },
     "execution_count": 7,
     "metadata": {},
     "output_type": "execute_result"
    }
   ],
   "source": [
    "num = 5\n",
    "string = 'Texto de ejemplo'\n",
    "booleano = True\n",
    "pi = 3.141592\n",
    "eje = 0\n",
    "\n",
    "type(num), type(string), type(booleano), type(pi)"
   ]
  },
  {
   "cell_type": "code",
   "execution_count": 8,
   "metadata": {},
   "outputs": [
    {
     "data": {
      "text/plain": [
       "False"
      ]
     },
     "execution_count": 8,
     "metadata": {},
     "output_type": "execute_result"
    }
   ],
   "source": [
    "# Type Casting\n",
    "\n",
    "int(pi)\n",
    "int(booleano)\n",
    "str(num)\n",
    "bool(eje)\n",
    "\n",
    "#Duck Typing en Python: 'If it walks like a duck and it quacks like a duck, then it must be a duck'"
   ]
  },
  {
   "cell_type": "code",
   "execution_count": 9,
   "metadata": {},
   "outputs": [
    {
     "name": "stdout",
     "output_type": "stream",
     "text": [
      "Pedro Páramo\n",
      "Pedro Páramo\n"
     ]
    }
   ],
   "source": [
    "###################################\n",
    "######## Variable String ##########\n",
    "\n",
    "name = 'Pedro'\n",
    "last_name = \"Páramo\"\n",
    "\n",
    "print(name, last_name) #Concatenación para impresión\n",
    "\n",
    "full_name = name + ' '+ last_name #Concatenación en la creación de una variable\n",
    "print(full_name)"
   ]
  },
  {
   "cell_type": "code",
   "execution_count": 14,
   "metadata": {},
   "outputs": [
    {
     "name": "stdout",
     "output_type": "stream",
     "text": [
      "Los valores asignados son: \n",
      " a: 123 \n",
      " b: 231 \n",
      " c: 321\n"
     ]
    }
   ],
   "source": [
    "# Unpacking en python\n",
    "# Asignar múltiples variables en una sola linea\n",
    "\n",
    "a, b, c = 123,231,321\n",
    "\n",
    "print(f'Los valores asignados son: \\n a: {a} \\n b: {b} \\n c: {c}')"
   ]
  },
  {
   "cell_type": "code",
   "execution_count": 15,
   "metadata": {},
   "outputs": [
    {
     "name": "stdout",
     "output_type": "stream",
     "text": [
      "Ahora a es 231 y b es 123\n"
     ]
    }
   ],
   "source": [
    "# Unpacking para Swapping\n",
    "\n",
    "a, b = b, a\n",
    "\n",
    "print(f'Ahora a es {a} y b es {b}')"
   ]
  },
  {
   "cell_type": "code",
   "execution_count": 12,
   "metadata": {},
   "outputs": [
    {
     "data": {
      "text/plain": [
       "(str, 22)"
      ]
     },
     "execution_count": 12,
     "metadata": {},
     "output_type": "execute_result"
    }
   ],
   "source": [
    "# Tipo y longitud \n",
    "\n",
    "type(full_name), len(full_name)"
   ]
  },
  {
   "cell_type": "markdown",
   "metadata": {},
   "source": [
    "### Strings o cadenas de texto"
   ]
  },
  {
   "cell_type": "code",
   "execution_count": 16,
   "metadata": {},
   "outputs": [
    {
     "name": "stdout",
     "output_type": "stream",
     "text": [
      "Estamos aprendiendo ciencia de datos con python\n"
     ]
    }
   ],
   "source": [
    "sentence = 'Estamos aprendiendo ciencia de datos con python'\n",
    "print(sentence)"
   ]
  },
  {
   "cell_type": "code",
   "execution_count": 19,
   "metadata": {},
   "outputs": [
    {
     "data": {
      "text/plain": [
       "'Estamos aprendiendo Python para Ciencia de datos'"
      ]
     },
     "execution_count": 19,
     "metadata": {},
     "output_type": "execute_result"
    }
   ],
   "source": [
    "# Formatear cadenas\n",
    "\n",
    "x = 'Python'\n",
    "y = 'Ciencia de datos'\n",
    "\n",
    "sentence = f'Estamos aprendiendo {x} para {y}'\n",
    "sentence"
   ]
  },
  {
   "cell_type": "code",
   "execution_count": 18,
   "metadata": {},
   "outputs": [
    {
     "data": {
      "text/plain": [
       "-1"
      ]
     },
     "execution_count": 18,
     "metadata": {},
     "output_type": "execute_result"
    }
   ],
   "source": [
    "#Algunos métodos para los str\n",
    "sentence.count('a')\n",
    "sentence.upper()\n",
    "sentence.lower()\n",
    "sentence.startswith('Estamos')\n",
    "sentence.endswith('Python')\n",
    "sentence.capitalize()\n",
    "sentence.title()\n",
    "sentence.replace('Python','R')\n",
    "sentence.find('ciencia')"
   ]
  },
  {
   "cell_type": "code",
   "execution_count": 27,
   "metadata": {},
   "outputs": [
    {
     "data": {
      "text/plain": [
       "'prend'"
      ]
     },
     "execution_count": 27,
     "metadata": {},
     "output_type": "execute_result"
    }
   ],
   "source": [
    "# Las cadenas son objetos iterables (indexados) por lo que es posible realizar slicing para calcular substrings\n",
    "\n",
    "sentence = 'Aprendiendo a programar en Python'\n",
    "sentence[1:6]"
   ]
  },
  {
   "cell_type": "code",
   "execution_count": 60,
   "metadata": {},
   "outputs": [
    {
     "name": "stdout",
     "output_type": "stream",
     "text": [
      "<class 'int'>\n",
      "<class 'float'>\n"
     ]
    }
   ],
   "source": [
    "##################################\n",
    "#### Variables int and float #####\n",
    "\n",
    "num = 5\n",
    "print(type(num))\n",
    "flo = 3.141592\n",
    "print(type(flo))\n",
    "# print(len(int))"
   ]
  },
  {
   "cell_type": "code",
   "execution_count": 29,
   "metadata": {},
   "outputs": [
    {
     "name": "stdout",
     "output_type": "stream",
     "text": [
      "8.141592\n"
     ]
    }
   ],
   "source": [
    "###################################\n",
    "# Operaciones aritméticas básicas #\n",
    "\n",
    "operacion = pi + num\n",
    "print(operacion)"
   ]
  },
  {
   "cell_type": "code",
   "execution_count": 31,
   "metadata": {},
   "outputs": [
    {
     "name": "stdout",
     "output_type": "stream",
     "text": [
      "6.141591999999999\n"
     ]
    }
   ],
   "source": [
    "#operacion = operacion -1\n",
    "operacion -= 1\n",
    "print(operacion)"
   ]
  },
  {
   "cell_type": "code",
   "execution_count": 38,
   "metadata": {},
   "outputs": [
    {
     "data": {
      "text/plain": [
       "(0.6283184, 15.70796, 3.141592, 9.869600294464002)"
      ]
     },
     "execution_count": 38,
     "metadata": {},
     "output_type": "execute_result"
    }
   ],
   "source": [
    "#Mas operaciones aritméticas\n",
    "\n",
    "pi/num , pi *num, pi % num , pi**2"
   ]
  },
  {
   "cell_type": "code",
   "execution_count": 39,
   "metadata": {},
   "outputs": [
    {
     "name": "stdout",
     "output_type": "stream",
     "text": [
      "3.1333333333333333\n"
     ]
    }
   ],
   "source": [
    "# Reporte de notas de tres cortes: 3.2, 2.2, 4, ¿paso la materia?\n",
    "\n",
    "agregado = 3.2+2.2+4\n",
    "promedio = agregado / 3\n",
    "print(promedio)"
   ]
  },
  {
   "cell_type": "code",
   "execution_count": 41,
   "metadata": {},
   "outputs": [
    {
     "name": "stdout",
     "output_type": "stream",
     "text": [
      "3.1333333333333333\n"
     ]
    }
   ],
   "source": [
    "agregado = [3.2, 2.2, 4]\n",
    "promedio = sum(agregado)/ len(agregado)\n",
    "print(promedio)"
   ]
  },
  {
   "cell_type": "code",
   "execution_count": 42,
   "metadata": {},
   "outputs": [
    {
     "name": "stdout",
     "output_type": "stream",
     "text": [
      "<class 'bool'>\n",
      "False\n",
      "False\n",
      "True\n"
     ]
    }
   ],
   "source": [
    "# Variables booleanas\n",
    "\n",
    "print(type(True))\n",
    "\n",
    "# Operadores lógicos\n",
    "\n",
    "print(not True) #Negación lógica\n",
    "print(True & False) #Conjunción lógica y\n",
    "print(True | False) #Disyunción lógica ó"
   ]
  },
  {
   "cell_type": "code",
   "execution_count": 20,
   "metadata": {},
   "outputs": [
    {
     "data": {
      "text/plain": [
       "True"
      ]
     },
     "execution_count": 20,
     "metadata": {},
     "output_type": "execute_result"
    }
   ],
   "source": [
    "# Operadores de comparación\n",
    "# >,<,==,!=\n",
    "\n",
    "False > True\n",
    "10/3 == 3.333\n",
    "10 != 3.333333 * 3"
   ]
  },
  {
   "cell_type": "markdown",
   "metadata": {},
   "source": [
    "### Ejercicios de práctica"
   ]
  },
  {
   "cell_type": "code",
   "execution_count": 20,
   "metadata": {},
   "outputs": [
    {
     "name": "stdout",
     "output_type": "stream",
     "text": [
      "Tus datos registrados son: \n",
      " Nombre: José \n",
      " DNI: 3214 \n",
      " Edad: 32\n"
     ]
    }
   ],
   "source": [
    "'''\n",
    "Escribe un programa que solicite el nombre, DNI y edad, lo almacene en 3 variables distintas y muestre por pantalla los valores introducidos.\n",
    "'''\n",
    "name = input('¿Cuántos años tienes?')\n",
    "DNI = input('Escribe tu DNE')\n",
    "age = input('¿Qué edad tienes?')\n",
    "\n",
    "print(f'Tus datos registrados son: \\n Nombre: {name} \\n DNI: {DNI} \\n Edad: {age}')"
   ]
  },
  {
   "cell_type": "code",
   "execution_count": 30,
   "metadata": {},
   "outputs": [
    {
     "data": {
      "text/plain": [
       "'Esclgo'"
      ]
     },
     "execution_count": 30,
     "metadata": {},
     "output_type": "execute_result"
    }
   ],
   "source": [
    "'''\n",
    "Escribe un programa que genere un string compuesto por los primeros 3 caracteres y los últimos 3 caracteres de un string introducido por el usuario. Pista: tendrás que utilizar la función len() en la obtención de los últimos 3 caracteres.\n",
    "\n",
    "- Ejemplo 1: 'aprendiendo'\n",
    "- Resultado 1: 'aprndo'\n",
    "- Ejemplo 2: 'escribiendo código'\n",
    "- Resultado 2: 'escigo'\n",
    "'''\n",
    "sentence = input('Escribe algo:')\n",
    "len(sentence)\n",
    "output = sentence[:3] + sentence[-3:]\n",
    "output\n"
   ]
  },
  {
   "cell_type": "code",
   "execution_count": 21,
   "metadata": {},
   "outputs": [
    {
     "name": "stdout",
     "output_type": "stream",
     "text": [
      "Juan\n",
      "Juan\n",
      "\n"
     ]
    }
   ],
   "source": [
    "'''\n",
    "Escribir un programa que pregunte el nombre del usuario en la consola y un número entero e imprima por pantalla en líneas distintas el nombre del usuario tantas veces como el número introducido.\n",
    "'''\n",
    "name = input('Escriba su nombre')\n",
    "number = int(input('Escriba un número entero'))\n",
    "\n",
    "print((name + '\\n')* int(number))"
   ]
  },
  {
   "cell_type": "code",
   "execution_count": 32,
   "metadata": {},
   "outputs": [
    {
     "data": {
      "text/plain": [
       "'rrollar '"
      ]
     },
     "execution_count": 32,
     "metadata": {},
     "output_type": "execute_result"
    }
   ],
   "source": [
    "'''\n",
    "Escribe un programa que solicite al usuario dos números y una frase. El primer número introducido se corresponderá a la posición de inicio del substring que deberá mostrar el programa por pantalla. El segundo número indicará la longitud de dicho substring.\n",
    "\n",
    "Ejemplo 1: Posicion=4, Longitud=8, Frase='Desarrollar es mi nueva afición'\n",
    "Resultado 1: \"rrollar \"\n",
    "Ejemplo 2: Posicion=8, Longitud=11, Frase='Bienvenido a la clase de programación'\n",
    "Resultado 2: \"do a la cla\"\n",
    "'''\n",
    "texto = input('Introduzca un texto:')\n",
    "posicion = int(input('Indique la posición en la que desee inciar:'))\n",
    "longitud = int(input('Indique la longitud del substring: '))\n",
    "\n",
    "texto[posicion:posicion+longitud+1]"
   ]
  },
  {
   "cell_type": "code",
   "execution_count": 33,
   "metadata": {},
   "outputs": [
    {
     "data": {
      "text/plain": [
       "'Deserroller es mi nuevo pesetiempos'"
      ]
     },
     "execution_count": 33,
     "metadata": {},
     "output_type": "execute_result"
    }
   ],
   "source": [
    "''''\n",
    "Escribe un programa que solicite al usuario una frase. A continuación le solicitará la letra que quiere reemplazar y por qué letra deberá reemplazarse. Por último el programa mostrará el número de veces que la letra está presente en la frase y el resultado final tras reemplazarla.\n",
    "\n",
    "Ejemplo: 'Desarrollar es mi nuevo pasatiempos', 'a','e'\n",
    "Resultado: 4 apariciones. 'Deserroller es mi nueve pesetiempos'\n",
    "'''\n",
    "\n",
    "txt = 'Desarrollar es mi nuevo pasatiempos'\n",
    "txt.replace('a','e')"
   ]
  },
  {
   "cell_type": "code",
   "execution_count": 33,
   "metadata": {},
   "outputs": [
    {
     "name": "stdout",
     "output_type": "stream",
     "text": [
      "aloh\n"
     ]
    }
   ],
   "source": [
    "''''\n",
    "Escribir un programa que pida al usuario que introduzca una frase en la consola y muestre por pantalla la frase invertida.\n",
    "'''\n",
    "sentence = input('Escriba una frase: ')\n",
    "print(sentence[::-1])"
   ]
  },
  {
   "cell_type": "code",
   "execution_count": 41,
   "metadata": {},
   "outputs": [
    {
     "name": "stdout",
     "output_type": "stream",
     "text": [
      "En tu último examen deberías sacar 5.0 para poder tener una notal final de 4.1\n"
     ]
    }
   ],
   "source": [
    "'''\n",
    "Escriba un programa en el que se guarden las notas de tres exámenes y la de la nota final deseada. A partir de ello se debe mostrar la nota que debería sacar en el último examen para alcanzar el resultado deseado. Haga que el programa no sea sensible a comas o puntos.\n",
    "\n",
    "'''\n",
    "nota_1 = float(input('Nota 1').replace(',','.'))\n",
    "nota_2 = float(input('Nota 2').replace(',','.'))\n",
    "nota_3 = float(input('Nota 3').replace(',','.'))\n",
    "\n",
    "deseado = float(input('¿Qué nota final deseas obtener?').replace(',','.'))\n",
    "\n",
    "nota_4 = 4*deseado - (nota_1+nota_2+nota_3)\n",
    "\n",
    "print(f'En tu último examen deberías sacar {round(nota_4,2)} para poder tener una notal final de {deseado}')"
   ]
  }
 ],
 "metadata": {
  "kernelspec": {
   "display_name": "Python 3",
   "language": "python",
   "name": "python3"
  },
  "language_info": {
   "codemirror_mode": {
    "name": "ipython",
    "version": 3
   },
   "file_extension": ".py",
   "mimetype": "text/x-python",
   "name": "python",
   "nbconvert_exporter": "python",
   "pygments_lexer": "ipython3",
   "version": "3.12.5"
  },
  "orig_nbformat": 4
 },
 "nbformat": 4,
 "nbformat_minor": 2
}
