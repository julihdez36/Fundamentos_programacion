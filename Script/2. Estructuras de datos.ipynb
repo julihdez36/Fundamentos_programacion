{
 "cells": [
  {
   "cell_type": "markdown",
   "metadata": {},
   "source": [
    "## 2. Estructuras básicas de de datos\n",
    "En python existen 3 estructuras básicas de datos: listas, tuplas y diccionarios\n",
    "\n",
    "### Listas\n",
    "Las listas son la estructura de datos mas usada (analoga a los vectores en lenguajes como R). Algunas propiedades de las listas:\n",
    "\n",
    "- Son ordenadas, mantienen el orden en el que han sido definidas\n",
    "- Pueden ser formadas por tipos arbitrarios\n",
    "- Pueden ser indexadas con [i].\n",
    "- Se pueden anidar, es decir, meter una dentro de la otra.\n",
    "- Son mutables, ya que sus elementos pueden ser modificados.\n",
    "- Son dinámicas, ya que se pueden añadir o eliminar elementos."
   ]
  },
  {
   "cell_type": "code",
   "execution_count": 4,
   "metadata": {},
   "outputs": [
    {
     "name": "stdout",
     "output_type": "stream",
     "text": [
      "[1, 2, 3, 4, 5, 6, 7, 8, 9, 10]\n"
     ]
    }
   ],
   "source": [
    "num = [] #decalarar lista\n",
    "num = [1,2,3,4,5,6,7,8,9,10]\n",
    "print(num)"
   ]
  },
  {
   "cell_type": "code",
   "execution_count": 5,
   "metadata": {},
   "outputs": [
    {
     "name": "stdout",
     "output_type": "stream",
     "text": [
      "[1, 3, 5, 7, 9, 11, 13, 15, 17, 19]\n",
      "<class 'list'>\n"
     ]
    }
   ],
   "source": [
    "num = list(range(1,21,2)) #start, stop, step\n",
    "print(num)\n",
    "print(type(num))"
   ]
  },
  {
   "cell_type": "code",
   "execution_count": 6,
   "metadata": {},
   "outputs": [
    {
     "name": "stdout",
     "output_type": "stream",
     "text": [
      "[1, 3, 5, 7, 12, 11, 13, 15, 17, 19]\n"
     ]
    }
   ],
   "source": [
    "# indexing\n",
    "num[4] = 12\n",
    "print(num)"
   ]
  },
  {
   "cell_type": "code",
   "execution_count": 7,
   "metadata": {},
   "outputs": [
    {
     "data": {
      "text/plain": [
       "[1, 5, 12, 13, 17]"
      ]
     },
     "execution_count": 7,
     "metadata": {},
     "output_type": "execute_result"
    }
   ],
   "source": [
    "num[:5] #del inicio hasta el indice 5\n",
    "num[:] # del inicio hasta el fin\n",
    "num[::2] # start, stop, step"
   ]
  },
  {
   "cell_type": "code",
   "execution_count": 8,
   "metadata": {},
   "outputs": [
    {
     "name": "stdout",
     "output_type": "stream",
     "text": [
      "[2, 6, 8, 7, 12, 11, 13, 15, 17, 19]\n"
     ]
    }
   ],
   "source": [
    "num [:3] = [2,6,8]\n",
    "print(num )"
   ]
  },
  {
   "cell_type": "code",
   "execution_count": 9,
   "metadata": {},
   "outputs": [
    {
     "name": "stdout",
     "output_type": "stream",
     "text": [
      "[1, 2, 3, 4, 5]\n"
     ]
    }
   ],
   "source": [
    "# Operadores como el + puede ser usado sobre listas\n",
    "\n",
    "l = [1, 2, 3]\n",
    "l += [4, 5]\n",
    "print(l)"
   ]
  },
  {
   "cell_type": "code",
   "execution_count": 10,
   "metadata": {},
   "outputs": [
    {
     "name": "stdout",
     "output_type": "stream",
     "text": [
      "1 2 3\n"
     ]
    }
   ],
   "source": [
    "#Asignación de variables con los elementos de una lista\n",
    "\n",
    "l = [1, 2, 3]\n",
    "x, y, z = l\n",
    "print(x, y, z)"
   ]
  },
  {
   "cell_type": "markdown",
   "metadata": {},
   "source": [
    "### Métodos en las listas"
   ]
  },
  {
   "cell_type": "code",
   "execution_count": 11,
   "metadata": {},
   "outputs": [
    {
     "name": "stdout",
     "output_type": "stream",
     "text": [
      "[2, 6, 8, 7, 12, 11, 13, 15, 17, 19, 21]\n"
     ]
    }
   ],
   "source": [
    "#Update\n",
    "\n",
    "num.append(21) #Agrega un nuevo elemento al final\n",
    "print(num)"
   ]
  },
  {
   "cell_type": "code",
   "execution_count": 12,
   "metadata": {},
   "outputs": [
    {
     "data": {
      "text/plain": [
       "['Hola', 2, 6, 8, 7, 12, 11, 13, 15, 17, 19, 21]"
      ]
     },
     "execution_count": 12,
     "metadata": {},
     "output_type": "execute_result"
    }
   ],
   "source": [
    "num.insert(0,'Hola') #inserta la palabra en la indexación dada\n",
    "num"
   ]
  },
  {
   "cell_type": "code",
   "execution_count": 20,
   "metadata": {},
   "outputs": [
    {
     "data": {
      "text/plain": [
       "3"
      ]
     },
     "execution_count": 20,
     "metadata": {},
     "output_type": "execute_result"
    }
   ],
   "source": [
    "num.index(8) #en qué posición está el argumento"
   ]
  },
  {
   "cell_type": "code",
   "execution_count": null,
   "metadata": {},
   "outputs": [
    {
     "data": {
      "text/plain": [
       "19"
      ]
     },
     "metadata": {},
     "output_type": "display_data"
    }
   ],
   "source": [
    "num.pop(0) #Elimina la posición que le damos"
   ]
  },
  {
   "cell_type": "code",
   "execution_count": null,
   "metadata": {},
   "outputs": [
    {
     "name": "stdout",
     "output_type": "stream",
     "text": [
      "[2, 6, 8, 7, 9, 11, 13, 15, 17, 19, 21]\n",
      "[2, 6, 8, 7, 9, 11, 13, 15, 17, 19]\n"
     ]
    }
   ],
   "source": [
    "print(num)\n",
    "num.pop() # Elimina el último\n",
    "print(num)"
   ]
  },
  {
   "cell_type": "code",
   "execution_count": null,
   "metadata": {},
   "outputs": [
    {
     "name": "stdout",
     "output_type": "stream",
     "text": [
      "[2, 6, 7, 8, 9, 11, 13, 15, 17, 19]\n"
     ]
    }
   ],
   "source": [
    "num.sort() #Ordena de manera ascendente\n",
    "print(num)"
   ]
  },
  {
   "cell_type": "code",
   "execution_count": null,
   "metadata": {},
   "outputs": [
    {
     "name": "stdout",
     "output_type": "stream",
     "text": [
      "[19, 17, 15, 13, 11, 9, 8, 7, 6, 2]\n"
     ]
    }
   ],
   "source": [
    "num.reverse() #Ordena descendentemente\n",
    "print(num)"
   ]
  },
  {
   "cell_type": "code",
   "execution_count": 21,
   "metadata": {},
   "outputs": [
    {
     "name": "stdout",
     "output_type": "stream",
     "text": [
      "generamos lista:  [1, 3, 5, 7, 9, 11, 13, 15, 17, 19]\n",
      "Cambiamos orden:\n",
      "Remplazamos datos:  [19, 17, 15, 13, 11, 111, 7, 5, 3, 300]\n"
     ]
    }
   ],
   "source": [
    "#Create\n",
    "# Creen una lista que de numeros impares desde 1 hasta 20\n",
    "# Lo ordenen de manera descendente\n",
    "# Remplacen el número 3 por 300 y el 11 por 111\n",
    "\n",
    "num = list(range(1,21,2))\n",
    "print('generamos lista: ', num )\n",
    "num .reverse()\n",
    "print('Cambiamos orden:', )\n",
    "num [9] = 300\n",
    "num [5] = 111\n",
    "print('Remplazamos datos: ', num )"
   ]
  },
  {
   "cell_type": "code",
   "execution_count": 22,
   "metadata": {},
   "outputs": [
    {
     "data": {
      "text/plain": [
       "[19, 17, 15, 13, 11, 111, 7, 5, 3, 300, 19, 17, 15, 13, 11, 111, 7, 5, 3, 300]"
      ]
     },
     "execution_count": 22,
     "metadata": {},
     "output_type": "execute_result"
    }
   ],
   "source": [
    "num + num #Fusionar listas"
   ]
  },
  {
   "cell_type": "markdown",
   "metadata": {},
   "source": [
    "### Tuplas\n",
    "\n",
    "Las tuplas en Python son un tipo o estructura de datos que permite almacenar datos de una manera muy parecida a las listas, con la salvedad de que son inmutables."
   ]
  },
  {
   "cell_type": "code",
   "execution_count": 1,
   "metadata": {},
   "outputs": [
    {
     "name": "stdout",
     "output_type": "stream",
     "text": [
      "(1, 2, 3)\n"
     ]
    }
   ],
   "source": [
    "tupla = (1,2,3)\n",
    "print(tupla)"
   ]
  },
  {
   "cell_type": "code",
   "execution_count": 2,
   "metadata": {},
   "outputs": [
    {
     "name": "stdout",
     "output_type": "stream",
     "text": [
      "<class 'tuple'>\n",
      "(1, 2, 3)\n"
     ]
    }
   ],
   "source": [
    "# También puede declararse isn ()\n",
    "\n",
    "tupla = 1, 2, 3\n",
    "print(type(tupla))\n",
    "print(tupla)"
   ]
  },
  {
   "cell_type": "code",
   "execution_count": 3,
   "metadata": {},
   "outputs": [
    {
     "name": "stdout",
     "output_type": "stream",
     "text": [
      "(1, 2, ('a', 'b'), 3)\n",
      "a\n"
     ]
    }
   ],
   "source": [
    "# Las tuplas pueden ser anidadas\n",
    "\n",
    "tupla = 1, 2, ('a', 'b'), 3\n",
    "print(tupla)       \n",
    "print(tupla[2][0]) "
   ]
  },
  {
   "cell_type": "code",
   "execution_count": 4,
   "metadata": {},
   "outputs": [
    {
     "name": "stdout",
     "output_type": "stream",
     "text": [
      "<class 'tuple'>\n",
      "(1, 2, 3)\n"
     ]
    }
   ],
   "source": [
    "lista = [1, 2, 3]\n",
    "tupla = tuple(lista)\n",
    "print(type(tupla)) \n",
    "print(tupla)       "
   ]
  },
  {
   "cell_type": "code",
   "execution_count": 6,
   "metadata": {},
   "outputs": [
    {
     "name": "stdout",
     "output_type": "stream",
     "text": [
      "3\n",
      "4\n"
     ]
    }
   ],
   "source": [
    "## Métodos en tuplas\n",
    "\n",
    "l = (1, 1, 1, 3, 5)\n",
    "print(l.count(1)) #3\n",
    "\n",
    "l = (7, 7, 7, 3, 5)\n",
    "print(l.index(5)) #4"
   ]
  },
  {
   "cell_type": "markdown",
   "metadata": {},
   "source": [
    "## Diccionarios\n",
    "\n",
    "Un diccionario en Python es una colección de elementos, donde cada uno tiene una llave key y un valor value. \n",
    "\n",
    "Algunas propiedades de los diccionario en Python son las siguientes:\n",
    "- Son dinámicos, pueden crecer o decrecer, se pueden añadir o eliminar elementos.\n",
    "- Son indexados, los elementos del diccionario son accesibles a través del key.\n",
    "- son anidados, un diccionario puede contener a otro diccionario en su campo value."
   ]
  },
  {
   "cell_type": "code",
   "execution_count": 12,
   "metadata": {},
   "outputs": [
    {
     "name": "stdout",
     "output_type": "stream",
     "text": [
      "<class 'dict'>\n"
     ]
    }
   ],
   "source": [
    "# Declarar diccionario\n",
    "\n",
    "dic = {}\n",
    "print(type(dic))"
   ]
  },
  {
   "cell_type": "code",
   "execution_count": 13,
   "metadata": {},
   "outputs": [
    {
     "name": "stdout",
     "output_type": "stream",
     "text": [
      "{'Nombre': 'Sara', 'Edad': 27, 'Documento': 1003882}\n"
     ]
    }
   ],
   "source": [
    "d1 = {\n",
    "  \"Nombre\": \"Sara\",\n",
    "  \"Edad\": 27,\n",
    "  \"Documento\": 1003882\n",
    "}\n",
    "print(d1)"
   ]
  },
  {
   "cell_type": "code",
   "execution_count": 14,
   "metadata": {},
   "outputs": [
    {
     "name": "stdout",
     "output_type": "stream",
     "text": [
      "{'Nombre': 'Sara', 'Edad': 27, 'Documento': 1003882}\n"
     ]
    }
   ],
   "source": [
    "# También los podemos construir usando dict()\n",
    "d2 = dict([\n",
    "      ('Nombre', 'Sara'),\n",
    "      ('Edad', 27),\n",
    "      ('Documento', 1003882),\n",
    "])\n",
    "print(d2)"
   ]
  },
  {
   "cell_type": "code",
   "execution_count": 15,
   "metadata": {},
   "outputs": [
    {
     "name": "stdout",
     "output_type": "stream",
     "text": [
      "{'Nombre': 'Sara', 'Edad': 27, 'Documento': 1003882}\n"
     ]
    }
   ],
   "source": [
    "# O también como sigue\n",
    "d3 = dict(Nombre='Sara',\n",
    "          Edad=27,\n",
    "          Documento=1003882)\n",
    "print(d3)"
   ]
  },
  {
   "cell_type": "code",
   "execution_count": 24,
   "metadata": {},
   "outputs": [
    {
     "data": {
      "text/plain": [
       "{'Columna 1': [1, 2, 3, 4, 5, 6, 7, 8, 9, 10, 11],\n",
       " 'Columna 2': [10, 11, 12, 13, 14, 15, 16, 17, 18, 19, 20],\n",
       " 'Columna 3': [20, 21, 22, 23, 24, 25, 26, 27, 28, 29, 30]}"
      ]
     },
     "execution_count": 24,
     "metadata": {},
     "output_type": "execute_result"
    }
   ],
   "source": [
    "# Pueden contener elementos compuestos como listas\n",
    "\n",
    "dic = {\n",
    "    'Columna 1': list(range(1,12)),\n",
    "    'Columna 2': list(range(10,21)),\n",
    "    'Columna 3': list(range(20,31))\n",
    "}\n",
    "\n",
    "dic"
   ]
  },
  {
   "cell_type": "code",
   "execution_count": 25,
   "metadata": {},
   "outputs": [
    {
     "name": "stdout",
     "output_type": "stream",
     "text": [
      "[1, 2, 3, 4, 5, 6, 7, 8, 9, 10, 11]\n",
      "[3, 4, 5]\n"
     ]
    }
   ],
   "source": [
    "# Como en cualquier objeto indexado podemos acceder a sus elementos \n",
    "print(dic['Columna 1'])\n",
    "print(dic['Columna 1'][2:5])"
   ]
  },
  {
   "cell_type": "code",
   "execution_count": 26,
   "metadata": {},
   "outputs": [
    {
     "data": {
      "text/plain": [
       "{'Columna 1': [1, 2, 3, 4, 5, 'seis', 7, 8, 9, 10, 11],\n",
       " 'Columna 2': [10, 11, 12, 13, 14, 15, 16, 17, 18, 19, 20],\n",
       " 'Columna 3': [20, 21, 22, 23, 24, 25, 26, 27, 28, 29, 30]}"
      ]
     },
     "execution_count": 26,
     "metadata": {},
     "output_type": "execute_result"
    }
   ],
   "source": [
    "# Son mutables\n",
    "\n",
    "dic['Columna 1'][5] = 'seis'\n",
    "dic"
   ]
  },
  {
   "cell_type": "code",
   "execution_count": 28,
   "metadata": {},
   "outputs": [
    {
     "data": {
      "text/plain": [
       "{'Columna 1': [1, 2, 3, 4, 5, 'seis', 7, 8, 9, 10, 11],\n",
       " 'Columna 2': [10, 11, 12, 13, 14, 15, 16, 17, 18, 19, 20],\n",
       " 'Columna 3': [20, 21, 22, 23, 24, 25, 26, 27, 28, 29, 30],\n",
       " 'Columna 4': [30, 31, 32, 33, 34, 35, 36, 37, 38, 39, 40]}"
      ]
     },
     "execution_count": 28,
     "metadata": {},
     "output_type": "execute_result"
    }
   ],
   "source": [
    "# Podemos agregar mas elementos\n",
    "\n",
    "dic['Columna 4'] = list(range(30,41))\n",
    "dic"
   ]
  },
  {
   "cell_type": "code",
   "execution_count": 29,
   "metadata": {},
   "outputs": [
    {
     "name": "stdout",
     "output_type": "stream",
     "text": [
      "[{'nombre': 'Juan', 'edad': 20}, {'nombre': 'Pedro', 'edad': 20}, {'nombre': 'Maria', 'edad': 15}]\n",
      "Pedro\n",
      "20\n"
     ]
    }
   ],
   "source": [
    "# dictionary lists\n",
    "\n",
    "mi_otra_com = [\n",
    "    {\n",
    "        'nombre': 'Juan',\n",
    "        'edad': 20\n",
    "    },\n",
    "    {\n",
    "        'nombre': 'Pedro',\n",
    "        'edad': 20\n",
    "    },\n",
    "    {\n",
    "        'nombre': 'Maria',\n",
    "        'edad': 15\n",
    "    },\n",
    "]\n",
    "\n",
    "print(mi_otra_com)\n",
    "print(mi_otra_com[1]['nombre'])\n",
    "print(mi_otra_com[1]['edad'])"
   ]
  },
  {
   "cell_type": "code",
   "execution_count": null,
   "metadata": {},
   "outputs": [],
   "source": [
    "# Métodos para diccionarios\n",
    "\n",
    "# clear() elimina el contenido del diccionario\n",
    "\n",
    "d = {'a': 1, 'b': 2}\n",
    "d.clear()\n",
    "print(d) #{}\n",
    "\n"
   ]
  },
  {
   "cell_type": "code",
   "execution_count": 31,
   "metadata": {},
   "outputs": [
    {
     "name": "stdout",
     "output_type": "stream",
     "text": [
      "1\n",
      "No encontrado\n"
     ]
    }
   ],
   "source": [
    "# El método get() nos permite consultar el value para un key determinado\n",
    "\n",
    "d = {'a': 1, 'b': 2}\n",
    "print(d.get('a')) #1\n",
    "print(d.get('z', 'No encontrado')) # Segundo parámetro, opcional, si no se encuentra valor"
   ]
  },
  {
   "cell_type": "code",
   "execution_count": 32,
   "metadata": {},
   "outputs": [
    {
     "name": "stdout",
     "output_type": "stream",
     "text": [
      "dict_items([('a', 1), ('b', 2)])\n",
      "[('a', 1), ('b', 2)]\n",
      "a\n"
     ]
    }
   ],
   "source": [
    "# El método items() devuelve una lista con los keys y values del diccionario\n",
    "\n",
    "d = {'a': 1, 'b': 2}\n",
    "it = d.items()\n",
    "print(it)            \n",
    "print(list(it))       \n",
    "print(list(it)[0][0])"
   ]
  },
  {
   "cell_type": "markdown",
   "metadata": {},
   "source": [
    "### Ejercicios\n",
    "\n",
    "1. Dada la siguiente lista [12, 23, 5, 29, 92, 64] realiza las siguientes operaciones y vete mostrando la lista resultante por pantalla:\n",
    "\n",
    "- Elimina el último número y añádelo al principio.\n",
    "- Mueve el segundo elemento a la última posición.\n",
    "- Añade el número 14 al comienzo de la lista.\n",
    "- Suma todos los números de la lista y añade el resultado al final de la lista.\n",
    "- Fusiona la lista actual con la siguiente: [4, 11, 32]\n",
    "- Elimina todos los números impares de la lista.\n",
    "- Ordena los números de la lista de forma ascendente.\n",
    "- Vacía la lista.\n",
    "\n",
    "2. Crea un programa que solicite al usuario 5 números y los guarde en una lista. A continuación el programa pedirá otros 5 números al usuario almacenándolos en una segunda lista. El programa mostrará al usuario una lista que contenga los números que tienen en común las dos listas anteriores.\n",
    "\n",
    "Ejemplo: Lista 1 = [6,14,11,78,5] y Lista 2 = [3,14,22,78,9]\n",
    "Resultado: [14, 78]\n",
    "\n",
    "3. Crea un programa que recorra una lista y cree un diccionario que contenga el número de veces que aparece cada número en la lista.\n",
    "\n",
    "Ejemplo: [12, 23, 5, 12, 92, 5,12, 5, 29, 92, 64,23]\n",
    "Resultado: {12: 3, 23: 2, 5: 3, 92: 2, 29: 1, 64: 1}\n",
    "\n",
    "3. Crea un programa que recorra una lista y cree un diccionario que contenga el número de veces que aparece cada número en la lista.\n",
    "\n",
    "Ejemplo: [12, 23, 5, 12, 92, 5,12, 5, 29, 92, 64,23]\n",
    "Resultado: {12: 3, 23: 2, 5: 3, 92: 2, 29: 1, 64: 1}"
   ]
  }
 ],
 "metadata": {
  "kernelspec": {
   "display_name": "Python 3",
   "language": "python",
   "name": "python3"
  },
  "language_info": {
   "codemirror_mode": {
    "name": "ipython",
    "version": 3
   },
   "file_extension": ".py",
   "mimetype": "text/x-python",
   "name": "python",
   "nbconvert_exporter": "python",
   "pygments_lexer": "ipython3",
   "version": "3.12.5"
  }
 },
 "nbformat": 4,
 "nbformat_minor": 2
}
