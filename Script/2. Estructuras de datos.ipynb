{
 "cells": [
  {
   "cell_type": "markdown",
   "metadata": {},
   "source": [
    "## 2. Estructuras básicas de de datos\n",
    "En python existen 4 estructuras básicas de datos: listas, sets,tuplas, diccionarios\n",
    "\n",
    "### Listas\n",
    "Las listas son la estructura de datos mas usada (array, vector): los elementos se separan por coma.\n",
    "\n",
    "Algunas propiedades de las listas:\n",
    "\n",
    "- Son ordenadas, mantienen el orden en el que han sido definidas\n",
    "- Pueden ser formadas por tipos arbitrarios\n",
    "- Pueden ser indexadas con [i].\n",
    "- Se pueden anidar, es decir, meter una dentro de la otra.\n",
    "- Son mutables, ya que sus elementos pueden ser modificados.\n",
    "- Son dinámicas, ya que se pueden añadir o eliminar elementos."
   ]
  },
  {
   "cell_type": "code",
   "execution_count": 4,
   "metadata": {},
   "outputs": [
    {
     "name": "stdout",
     "output_type": "stream",
     "text": [
      "[1, 2, 3, 4, 5, 6, 7, 8, 9, 10]\n"
     ]
    }
   ],
   "source": [
    "num = [] #decalarar lista\n",
    "num = [1,2,3,4,5,6,7,8,9,10]\n",
    "print(num)"
   ]
  },
  {
   "cell_type": "code",
   "execution_count": 5,
   "metadata": {},
   "outputs": [
    {
     "name": "stdout",
     "output_type": "stream",
     "text": [
      "[1, 3, 5, 7, 9, 11, 13, 15, 17, 19]\n",
      "<class 'list'>\n"
     ]
    }
   ],
   "source": [
    "num = list(range(1,21,2)) #start, stop, step\n",
    "print(num)\n",
    "print(type(num))"
   ]
  },
  {
   "cell_type": "code",
   "execution_count": 6,
   "metadata": {},
   "outputs": [
    {
     "name": "stdout",
     "output_type": "stream",
     "text": [
      "[1, 3, 5, 7, 12, 11, 13, 15, 17, 19]\n"
     ]
    }
   ],
   "source": [
    "# indexing\n",
    "num[4] = 12\n",
    "print(num)"
   ]
  },
  {
   "cell_type": "code",
   "execution_count": 7,
   "metadata": {},
   "outputs": [
    {
     "data": {
      "text/plain": [
       "[1, 5, 12, 13, 17]"
      ]
     },
     "execution_count": 7,
     "metadata": {},
     "output_type": "execute_result"
    }
   ],
   "source": [
    "num[:5] #del inicio hasta el indice 5\n",
    "num[:] # del inicio hasta el fin\n",
    "num[::2] # start, stop, step"
   ]
  },
  {
   "cell_type": "code",
   "execution_count": 8,
   "metadata": {},
   "outputs": [
    {
     "name": "stdout",
     "output_type": "stream",
     "text": [
      "[2, 6, 8, 7, 12, 11, 13, 15, 17, 19]\n"
     ]
    }
   ],
   "source": [
    "num [:3] = [2,6,8]\n",
    "print(num )"
   ]
  },
  {
   "cell_type": "code",
   "execution_count": 9,
   "metadata": {},
   "outputs": [
    {
     "name": "stdout",
     "output_type": "stream",
     "text": [
      "[1, 2, 3, 4, 5]\n"
     ]
    }
   ],
   "source": [
    "# Operadores como el + puede ser usado sobre listas\n",
    "\n",
    "l = [1, 2, 3]\n",
    "l += [4, 5]\n",
    "print(l)"
   ]
  },
  {
   "cell_type": "code",
   "execution_count": 10,
   "metadata": {},
   "outputs": [
    {
     "name": "stdout",
     "output_type": "stream",
     "text": [
      "1 2 3\n"
     ]
    }
   ],
   "source": [
    "#Asignación de variables con los elementos de una lista\n",
    "\n",
    "l = [1, 2, 3]\n",
    "x, y, z = l\n",
    "print(x, y, z)"
   ]
  },
  {
   "cell_type": "markdown",
   "metadata": {},
   "source": [
    "### Métodos en las listas\n",
    "**CRUD:** create, read, update and delete (Consultas SQL)"
   ]
  },
  {
   "cell_type": "code",
   "execution_count": 11,
   "metadata": {},
   "outputs": [
    {
     "name": "stdout",
     "output_type": "stream",
     "text": [
      "[2, 6, 8, 7, 12, 11, 13, 15, 17, 19, 21]\n"
     ]
    }
   ],
   "source": [
    "#Update\n",
    "\n",
    "num .append(21) #Agrega un nuevo elemento al final\n",
    "print(num)"
   ]
  },
  {
   "cell_type": "code",
   "execution_count": 12,
   "metadata": {},
   "outputs": [
    {
     "data": {
      "text/plain": [
       "['Hola', 2, 6, 8, 7, 12, 11, 13, 15, 17, 19, 21]"
      ]
     },
     "execution_count": 12,
     "metadata": {},
     "output_type": "execute_result"
    }
   ],
   "source": [
    "num.insert(0,'Hola') #inserta la palabra en la indexación dada\n",
    "num"
   ]
  },
  {
   "cell_type": "code",
   "execution_count": 20,
   "metadata": {},
   "outputs": [
    {
     "data": {
      "text/plain": [
       "3"
      ]
     },
     "execution_count": 20,
     "metadata": {},
     "output_type": "execute_result"
    }
   ],
   "source": [
    "num.index(8) #en qué posición está el argumento"
   ]
  },
  {
   "cell_type": "code",
   "execution_count": null,
   "metadata": {},
   "outputs": [
    {
     "data": {
      "text/plain": [
       "19"
      ]
     },
     "metadata": {},
     "output_type": "display_data"
    }
   ],
   "source": [
    "num.pop(0) #Elimina la posición que le damos"
   ]
  },
  {
   "cell_type": "code",
   "execution_count": null,
   "metadata": {},
   "outputs": [
    {
     "name": "stdout",
     "output_type": "stream",
     "text": [
      "[2, 6, 8, 7, 9, 11, 13, 15, 17, 19, 21]\n",
      "[2, 6, 8, 7, 9, 11, 13, 15, 17, 19]\n"
     ]
    }
   ],
   "source": [
    "print(num)\n",
    "num.pop() # Elimina el último\n",
    "print(num)"
   ]
  },
  {
   "cell_type": "code",
   "execution_count": null,
   "metadata": {},
   "outputs": [
    {
     "name": "stdout",
     "output_type": "stream",
     "text": [
      "[2, 6, 7, 8, 9, 11, 13, 15, 17, 19]\n"
     ]
    }
   ],
   "source": [
    "num.sort() #Ordena de manera ascendente\n",
    "print(num)"
   ]
  },
  {
   "cell_type": "code",
   "execution_count": null,
   "metadata": {},
   "outputs": [
    {
     "name": "stdout",
     "output_type": "stream",
     "text": [
      "[19, 17, 15, 13, 11, 9, 8, 7, 6, 2]\n"
     ]
    }
   ],
   "source": [
    "num.reverse() #Ordena descendentemente\n",
    "print(num)"
   ]
  },
  {
   "cell_type": "code",
   "execution_count": 21,
   "metadata": {},
   "outputs": [
    {
     "name": "stdout",
     "output_type": "stream",
     "text": [
      "generamos lista:  [1, 3, 5, 7, 9, 11, 13, 15, 17, 19]\n",
      "Cambiamos orden:\n",
      "Remplazamos datos:  [19, 17, 15, 13, 11, 111, 7, 5, 3, 300]\n"
     ]
    }
   ],
   "source": [
    "#Create\n",
    "# Creen una lista que de numeros impares desde 1 hasta 20\n",
    "# Lo ordenen de manera descendente\n",
    "# Remplacen el número 3 por 300 y el 11 por 111\n",
    "\n",
    "num = list(range(1,21,2))\n",
    "print('generamos lista: ', num )\n",
    "num .reverse()\n",
    "print('Cambiamos orden:', )\n",
    "num [9] = 300\n",
    "num [5] = 111\n",
    "print('Remplazamos datos: ', num )"
   ]
  },
  {
   "cell_type": "code",
   "execution_count": 22,
   "metadata": {},
   "outputs": [
    {
     "data": {
      "text/plain": [
       "[19, 17, 15, 13, 11, 111, 7, 5, 3, 300, 19, 17, 15, 13, 11, 111, 7, 5, 3, 300]"
      ]
     },
     "execution_count": 22,
     "metadata": {},
     "output_type": "execute_result"
    }
   ],
   "source": [
    "num + num #Fusionar listas"
   ]
  },
  {
   "cell_type": "markdown",
   "metadata": {},
   "source": [
    "## Diccionarios\n",
    "\n",
    "Un diccionario en Python es una colección de elementos, donde cada uno tiene una llave key y un valor value. Los diccionarios se pueden crear con paréntesis {} separando con una coma cada par key: value. En el siguiente ejemplo tenemos tres keys que son el nombre, la edad y el documento."
   ]
  },
  {
   "cell_type": "code",
   "execution_count": 23,
   "metadata": {},
   "outputs": [
    {
     "name": "stdout",
     "output_type": "stream",
     "text": [
      "<class 'dict'>\n"
     ]
    }
   ],
   "source": [
    "# Declarar diccionario\n",
    "\n",
    "dic = {}\n",
    "print(type(dic))"
   ]
  },
  {
   "cell_type": "code",
   "execution_count": null,
   "metadata": {},
   "outputs": [],
   "source": [
    "dic = {\n",
    "    'Columna 1': list(range(1,11)),\n",
    "    'Columna 2': list(range(10,21)),\n",
    "    'Columna 3': list(range(20,31))\n",
    "}"
   ]
  },
  {
   "cell_type": "code",
   "execution_count": null,
   "metadata": {},
   "outputs": [
    {
     "name": "stdout",
     "output_type": "stream",
     "text": [
      "{'Columna 1': [1, 2, 3, 4, 5, 6, 7, 8, 9, 10], 'Columna 2': [10, 11, 12, 13, 14, 15, 16, 17, 18, 19, 20], 'Columna 3': [20, 21, 22, 23, 24, 25, 26, 27, 28, 29, 30]}\n"
     ]
    }
   ],
   "source": [
    "print(dic)"
   ]
  },
  {
   "cell_type": "code",
   "execution_count": null,
   "metadata": {},
   "outputs": [
    {
     "name": "stdout",
     "output_type": "stream",
     "text": [
      "[1, 2, 3, 4, 5, 6, 7, 8, 9, 10]\n"
     ]
    }
   ],
   "source": [
    "print(dic['Columna 1'])"
   ]
  },
  {
   "cell_type": "code",
   "execution_count": 26,
   "metadata": {},
   "outputs": [
    {
     "name": "stdout",
     "output_type": "stream",
     "text": [
      "{'One': 1, 'Two': 2, 'Three': 3, 'Four': 4}\n"
     ]
    }
   ],
   "source": [
    "# Dictionary example\n",
    "\n",
    "dic_1 = {'One': 1,\n",
    "         'Two': 2,\n",
    "         'Three': 3,\n",
    "         'Four': 4\n",
    "         }\n",
    "\n",
    "print(dic_1)"
   ]
  },
  {
   "cell_type": "code",
   "execution_count": 27,
   "metadata": {},
   "outputs": [
    {
     "name": "stdout",
     "output_type": "stream",
     "text": [
      "1\n",
      "3\n"
     ]
    }
   ],
   "source": [
    "# Dictionary indexing (key)\n",
    "\n",
    "print(dic_1['One'])\n",
    "print(dic_1['Three'])"
   ]
  },
  {
   "cell_type": "code",
   "execution_count": 28,
   "metadata": {},
   "outputs": [
    {
     "data": {
      "text/plain": [
       "{'One': 1, 'Two': 2, 'Three': 3, 'Four': 4, 'Five': 5}"
      ]
     },
     "execution_count": 28,
     "metadata": {},
     "output_type": "execute_result"
    }
   ],
   "source": [
    "#Agreguemos elementos\n",
    "dic_1['Five'] = 5\n",
    "dic_1"
   ]
  },
  {
   "cell_type": "code",
   "execution_count": 29,
   "metadata": {},
   "outputs": [
    {
     "name": "stdout",
     "output_type": "stream",
     "text": [
      "{'nombres': ['Juan', 'Pedro', 'Maria'], 'edades': [20, 10, 15]}\n",
      "['Juan', 'Pedro', 'Maria']\n",
      "Pedro\n",
      "10\n"
     ]
    }
   ],
   "source": [
    "#combination of dictionaries and lists\n",
    "\n",
    "comb_1 = {\n",
    "    'nombres': ['Juan', 'Pedro', 'Maria'],\n",
    "    'edades': [20, 10, 15]\n",
    "}\n",
    "print(comb_1)\n",
    "print(comb_1['nombres'])\n",
    "print(comb_1['nombres'][1])\n",
    "print(comb_1['edades'][1])"
   ]
  },
  {
   "cell_type": "code",
   "execution_count": null,
   "metadata": {},
   "outputs": [
    {
     "name": "stdout",
     "output_type": "stream",
     "text": [
      "[{'nombre': 'Juan', 'edad': 20}, {'nombre': 'Pedro', 'edad': 20}, {'nombre': 'Maria', 'edad': 15}]\n",
      "Pedro\n",
      "20\n"
     ]
    }
   ],
   "source": [
    "# dictionary lists\n",
    "\n",
    "mi_otra_com = [\n",
    "    {\n",
    "        'nombre': 'Juan',\n",
    "        'edad': 20\n",
    "    },\n",
    "    {\n",
    "        'nombre': 'Pedro',\n",
    "        'edad': 20\n",
    "    },\n",
    "    {\n",
    "        'nombre': 'Maria',\n",
    "        'edad': 15\n",
    "    },\n",
    "]\n",
    "\n",
    "print(mi_otra_com)\n",
    "print(mi_otra_com[1]['nombre'])\n",
    "print(mi_otra_com[1]['edad'])"
   ]
  },
  {
   "cell_type": "code",
   "execution_count": null,
   "metadata": {},
   "outputs": [],
   "source": [
    "# Métodos para diccionarios\n",
    "\n"
   ]
  },
  {
   "cell_type": "code",
   "execution_count": null,
   "metadata": {},
   "outputs": [],
   "source": []
  },
  {
   "cell_type": "code",
   "execution_count": null,
   "metadata": {},
   "outputs": [],
   "source": []
  },
  {
   "cell_type": "markdown",
   "metadata": {},
   "source": [
    "## Para casa\n",
    "\n",
    "1. Crear una lista que contenga los números impares del 1 al 100\n",
    "2. Crear un diccionario que tenga tres listas que vayan de: 0 al 9, 10 al 19 y 20 a 29.\n",
    "3. Cree una lista que contenga 3 listas de 3 registros cada una. Imprima el segundo valor del tercer registro.\n",
    "4. Crre un diccionario con 3 diccionarios donde cada diccionario registre tres valores cualesquiera (ejm. nombre, sexo, edad)"
   ]
  }
 ],
 "metadata": {
  "kernelspec": {
   "display_name": "Python 3",
   "language": "python",
   "name": "python3"
  },
  "language_info": {
   "codemirror_mode": {
    "name": "ipython",
    "version": 3
   },
   "file_extension": ".py",
   "mimetype": "text/x-python",
   "name": "python",
   "nbconvert_exporter": "python",
   "pygments_lexer": "ipython3",
   "version": "3.12.3"
  }
 },
 "nbformat": 4,
 "nbformat_minor": 2
}
