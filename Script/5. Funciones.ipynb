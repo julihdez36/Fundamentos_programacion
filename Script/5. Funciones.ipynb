{
 "cells": [
  {
   "cell_type": "markdown",
   "metadata": {},
   "source": [
    "# Funciones en Python\n",
    "\n",
    "Las funciones en python se definen a través de def y siguiendo el criterio de identación.\n",
    "\n",
    "Las funciones siguen dos principiops báicos: reusabilidad y modularidad\n",
    "- **Reusabilidad:** en lugar de repetir muchas veces el mismo código, puede convertirse en una función.\n",
    "- **Modularidad:** en lugar de tener fragmentos extensos de código, es mejor crear módulos o funciones que agrupen código.\n",
    "\n",
    "las funciones terminan convencionalmente con la sentencia return, que permite realizar dos cosas:\n",
    "- Salir de la función y trasnferir la ejecución de vuelta a donde se realizón la llamada\n",
    "- Devolver uno o varios parámetros, fruto de la ejecución de la función"
   ]
  },
  {
   "cell_type": "code",
   "execution_count": 7,
   "metadata": {},
   "outputs": [],
   "source": [
    "def di_hola(): #función sin parámetros\n",
    "    print('Hola')"
   ]
  },
  {
   "cell_type": "code",
   "execution_count": 6,
   "metadata": {},
   "outputs": [
    {
     "data": {
      "text/plain": [
       "6"
      ]
     },
     "execution_count": 6,
     "metadata": {},
     "output_type": "execute_result"
    }
   ],
   "source": [
    "def f(x): #función con un parámetro\n",
    "    return 2*x\n",
    "f(3)\n",
    "\n"
   ]
  },
  {
   "cell_type": "code",
   "execution_count": 10,
   "metadata": {},
   "outputs": [
    {
     "data": {
      "text/plain": [
       "(2, 4)"
      ]
     },
     "execution_count": 10,
     "metadata": {},
     "output_type": "execute_result"
    }
   ],
   "source": [
    "# Loas parámetros siguen un orden posicional\n",
    "def resta(a,b):\n",
    "    return a-b\n",
    "resta(5,3), resta(a=6,b=2) #argumentos por nombre y por posición"
   ]
  },
  {
   "cell_type": "code",
   "execution_count": 1,
   "metadata": {},
   "outputs": [
    {
     "data": {
      "text/plain": [
       "(7, 5)"
      ]
     },
     "execution_count": 1,
     "metadata": {},
     "output_type": "execute_result"
    }
   ],
   "source": [
    "# Argumentos por defecto\n",
    "def suma(a,b,c=2):\n",
    "    return a+b+c\n",
    "\n",
    "suma(2,3),suma(2,3,0)"
   ]
  },
  {
   "cell_type": "code",
   "execution_count": 4,
   "metadata": {},
   "outputs": [
    {
     "data": {
      "text/plain": [
       "13"
      ]
     },
     "execution_count": 4,
     "metadata": {},
     "output_type": "execute_result"
    }
   ],
   "source": [
    "# Argumentos de longitud variable\n",
    "\n",
    "def suma(numeros):\n",
    "    total = 0\n",
    "    for i in numeros:\n",
    "        total += i\n",
    "    return total\n",
    "\n",
    "suma([1,3,4,5])"
   ]
  },
  {
   "cell_type": "code",
   "execution_count": 7,
   "metadata": {},
   "outputs": [
    {
     "name": "stdout",
     "output_type": "stream",
     "text": [
      "<class 'tuple'>\n"
     ]
    },
    {
     "data": {
      "text/plain": [
       "9"
      ]
     },
     "execution_count": 7,
     "metadata": {},
     "output_type": "execute_result"
    }
   ],
   "source": [
    "#Esto se puede simplificar usando * que hara que el argumento se empaquete en una tupla automaticamente\n",
    "\n",
    "def suma(*numeros):\n",
    "    print(type(numeros))\n",
    "    total = 0\n",
    "    for i in numeros:\n",
    "        total += i\n",
    "    return total\n",
    "\n",
    "suma(2,3,4)"
   ]
  },
  {
   "cell_type": "markdown",
   "metadata": {},
   "source": [
    "# Funciones lambda\n",
    "\n",
    "Las funciones lambda o anónimas son un tipo de funciones en python que típicamente se definene en una línea y cuyo código a ejecutar suele ser pequeño. \n",
    "- Las funciones lambda no tienen nombre, si queremos guardar debemos asignarla a una variable\n",
    "- También es posible declarar la función y llamarla en la misma línea\n",
    "\n",
    "Las funciones lambda se pueden acompañar con funciones de orden superior. Una **función de orden superior** es aquella que cumple al menos uno de los siguientes criterios:\n",
    "\n",
    "1. Toma una o más funciones como argumentos: Esto significa que la función puede aceptar otras funciones como parámetros.\n",
    "1. Devuelve una función como resultado: Esto significa que la función puede generar y devolver otras funciones como resultado.\n",
    "\n",
    "Las funciones de orden superior son una parte fundamental de la programación funcional, un paradigma de programación que se basa en el uso de funciones como unidades de abstracción y composición. Permiten escribir código más limpio, modular y expresivo, ya que facilitan la reutilización y la composición de funcionalidades. Ejemplos comunes de funciones de orden superior en Python incluyen map(), filter(), reduce() y las funciones lambda."
   ]
  },
  {
   "cell_type": "code",
   "execution_count": 10,
   "metadata": {},
   "outputs": [
    {
     "data": {
      "text/plain": [
       "6"
      ]
     },
     "execution_count": 10,
     "metadata": {},
     "output_type": "execute_result"
    }
   ],
   "source": [
    "(lambda a,b : a + b)(2,4)"
   ]
  },
  {
   "cell_type": "code",
   "execution_count": 16,
   "metadata": {},
   "outputs": [
    {
     "data": {
      "text/plain": [
       "[0, 2, 4, 6, 8]"
      ]
     },
     "execution_count": 16,
     "metadata": {},
     "output_type": "execute_result"
    }
   ],
   "source": [
    "# map(): Esta función aplica una función a cada elemento de un iterable (como una lista) y retorna un iterable con los resultados. \n",
    "#Este resultado no muestra los elementos individuales, sino simplemente la representación del objeto map. Para ver los resultados reales, necesitas convertir el objeto map en una lista\n",
    "\n",
    "numeros = list(range(5))\n",
    "list(map(lambda x: x*2,numeros))"
   ]
  },
  {
   "cell_type": "code",
   "execution_count": 10,
   "metadata": {},
   "outputs": [
    {
     "name": "stdout",
     "output_type": "stream",
     "text": [
      "vector original: \n",
      " [34, 23, 74, 11, 92, 6, 87, 84, 90, 72, 10, 52, 47, 26, 86, 46, 94, 2, 18, 73, 66, 43, 39, 76, 30, 84, 18, 44, 4, 88, 82, 28, 6, 26, 23, 76, 4, 61, 31, 94, 83, 20, 61, 69, 92, 40, 35, 67, 8, 38]\n",
      "vector normalizado: \n",
      " [-0.51 -0.88  0.83 -1.28  1.43 -1.45  1.26  1.16  1.36  0.76 -1.31  0.09\n",
      " -0.08 -0.78  1.23 -0.11  1.5  -1.58 -1.05  0.79  0.56 -0.21 -0.34  0.89\n",
      " -0.64  1.16 -1.05 -0.18 -1.51  1.3   1.1  -0.71 -1.45 -0.78 -0.88  0.89\n",
      " -1.51  0.39 -0.61  1.5   1.13 -0.98  0.39  0.66  1.43 -0.31 -0.48  0.59\n",
      " -1.38 -0.38]\n"
     ]
    }
   ],
   "source": [
    "import random\n",
    "import numpy as np\n",
    "\n",
    "vector = []\n",
    "for i in range(50):\n",
    "    vector.append(random.randint(1,100))\n",
    "\n",
    "norma = list(map(lambda x: (x - np.mean(vector))/np.std(vector), vector))\n",
    "print(f'vector original: \\n {vector}')\n",
    "print(f'vector normalizado: \\n {np.round(norma,2)}')\n"
   ]
  },
  {
   "cell_type": "code",
   "execution_count": 5,
   "metadata": {},
   "outputs": [
    {
     "data": {
      "text/plain": [
       "24.423930887553706"
      ]
     },
     "execution_count": 5,
     "metadata": {},
     "output_type": "execute_result"
    }
   ],
   "source": [
    "list(map(lambda x: (x - np.mean(vector))/np.std(x), vector))"
   ]
  },
  {
   "cell_type": "code",
   "execution_count": 18,
   "metadata": {},
   "outputs": [
    {
     "data": {
      "text/plain": [
       "[0, 2, 4]"
      ]
     },
     "execution_count": 18,
     "metadata": {},
     "output_type": "execute_result"
    }
   ],
   "source": [
    "# filter(): Esta función filtra elementos de un iterable basado en si la función devuelve True o False. La sintaxis básica es similar a map()\n",
    "\n",
    "list(filter(lambda x: x%2 == 0,numeros))"
   ]
  },
  {
   "cell_type": "code",
   "execution_count": 25,
   "metadata": {},
   "outputs": [
    {
     "name": "stdout",
     "output_type": "stream",
     "text": [
      "10\n"
     ]
    }
   ],
   "source": [
    "# reduce(): Esta función aplica una función de manera acumulativa a los elementos de un iterable, de izquierda a derecha, reduciéndolos a un solo valor.\n",
    "\n",
    "from functools import reduce\n",
    "\n",
    "#Sumar todos los elementos de una lista\n",
    "print(reduce(lambda x,y: x+y, numeros))"
   ]
  }
 ],
 "metadata": {
  "kernelspec": {
   "display_name": "Python 3",
   "language": "python",
   "name": "python3"
  },
  "language_info": {
   "codemirror_mode": {
    "name": "ipython",
    "version": 3
   },
   "file_extension": ".py",
   "mimetype": "text/x-python",
   "name": "python",
   "nbconvert_exporter": "python",
   "pygments_lexer": "ipython3",
   "version": "3.12.5"
  }
 },
 "nbformat": 4,
 "nbformat_minor": 2
}
