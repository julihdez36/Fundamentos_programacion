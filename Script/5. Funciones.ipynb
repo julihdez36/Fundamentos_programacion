{
 "cells": [
  {
   "cell_type": "markdown",
   "metadata": {},
   "source": [
    "# Funciones en Python\n",
    "\n",
    "Las funciones en python se definen a través de def y siguiendo el criterio de identación.\n",
    "\n",
    "Las funciones siguen dos principiops báicos: reusabilidad y modularidad\n",
    "- **Reusabilidad:** en lugar de repetir muchas veces el mismo código, puede convertirse en una función.\n",
    "- **Modularidad:** en lugar de tener fragmentos extensos de código, es mejor crear módulos o funciones que agrupen código.\n",
    "\n",
    "las funciones terminan convencionalmente con la sentencia return, que permite realizar dos cosas:\n",
    "- Salir de la función y trasnferir la ejecución de vuelta a donde se realizón la llamada\n",
    "- Devolver uno o varios parámetros, fruto de la ejecución de la función"
   ]
  },
  {
   "cell_type": "code",
   "execution_count": 7,
   "metadata": {},
   "outputs": [],
   "source": [
    "def di_hola(): #función sin parámetros\n",
    "    print('Hola')"
   ]
  },
  {
   "cell_type": "code",
   "execution_count": 6,
   "metadata": {},
   "outputs": [
    {
     "data": {
      "text/plain": [
       "6"
      ]
     },
     "execution_count": 6,
     "metadata": {},
     "output_type": "execute_result"
    }
   ],
   "source": [
    "def f(x): #función con un parámetro\n",
    "    return 2*x\n",
    "f(3)\n",
    "\n"
   ]
  },
  {
   "cell_type": "code",
   "execution_count": 10,
   "metadata": {},
   "outputs": [
    {
     "data": {
      "text/plain": [
       "(2, 4)"
      ]
     },
     "execution_count": 10,
     "metadata": {},
     "output_type": "execute_result"
    }
   ],
   "source": [
    "# Loas parámetros siguen un orden posicional\n",
    "def resta(a,b):\n",
    "    return a-b\n",
    "resta(5,3), resta(a=6,b=2) #argumentos por nombre y por posición"
   ]
  },
  {
   "cell_type": "code",
   "execution_count": 1,
   "metadata": {},
   "outputs": [
    {
     "data": {
      "text/plain": [
       "(7, 5)"
      ]
     },
     "execution_count": 1,
     "metadata": {},
     "output_type": "execute_result"
    }
   ],
   "source": [
    "# Argumentos por defecto\n",
    "def suma(a,b,c=2):\n",
    "    return a+b+c\n",
    "\n",
    "suma(2,3),suma(2,3,0)"
   ]
  },
  {
   "cell_type": "code",
   "execution_count": 4,
   "metadata": {},
   "outputs": [
    {
     "data": {
      "text/plain": [
       "13"
      ]
     },
     "execution_count": 4,
     "metadata": {},
     "output_type": "execute_result"
    }
   ],
   "source": [
    "# Argumentos de longitud variable\n",
    "\n",
    "def suma(numeros):\n",
    "    total = 0\n",
    "    for i in numeros:\n",
    "        total += i\n",
    "    return total\n",
    "\n",
    "suma([1,3,4,5])"
   ]
  },
  {
   "cell_type": "code",
   "execution_count": 7,
   "metadata": {},
   "outputs": [
    {
     "name": "stdout",
     "output_type": "stream",
     "text": [
      "<class 'tuple'>\n"
     ]
    },
    {
     "data": {
      "text/plain": [
       "9"
      ]
     },
     "execution_count": 7,
     "metadata": {},
     "output_type": "execute_result"
    }
   ],
   "source": [
    "#Esto se puede simplificar usando * que hara que el argumento se empaquete en una tupla automaticamente\n",
    "\n",
    "def suma(*numeros):\n",
    "    print(type(numeros))\n",
    "    total = 0\n",
    "    for i in numeros:\n",
    "        total += i\n",
    "    return total\n",
    "\n",
    "suma(2,3,4)"
   ]
  },
  {
   "cell_type": "markdown",
   "metadata": {},
   "source": [
    "# Funciones lambda\n",
    "\n",
    "Las funciones lambda o anónimas son un tipo de funciones en python que típicamente se definene en una línea y cuyo código a ejecutar suele ser pequeño. \n",
    "- Las funciones lambda no tienen nombre, si queremos guardar debemos asignarla a una variable\n",
    "- También es posible declarar la función y llamarla en la misma línea\n",
    "\n",
    "Las funciones lambda se pueden acompañar con funciones de orden superior. Una **función de orden superior** es aquella que cumple al menos uno de los siguientes criterios:\n",
    "\n",
    "1. Toma una o más funciones como argumentos: Esto significa que la función puede aceptar otras funciones como parámetros.\n",
    "1. Devuelve una función como resultado: Esto significa que la función puede generar y devolver otras funciones como resultado.\n",
    "\n",
    "Las funciones de orden superior son una parte fundamental de la programación funcional, un paradigma de programación que se basa en el uso de funciones como unidades de abstracción y composición. Permiten escribir código más limpio, modular y expresivo, ya que facilitan la reutilización y la composición de funcionalidades. Ejemplos comunes de funciones de orden superior en Python incluyen map(), filter(), reduce() y las funciones lambda."
   ]
  },
  {
   "cell_type": "code",
   "execution_count": 10,
   "metadata": {},
   "outputs": [
    {
     "data": {
      "text/plain": [
       "6"
      ]
     },
     "execution_count": 10,
     "metadata": {},
     "output_type": "execute_result"
    }
   ],
   "source": [
    "(lambda a,b : a + b)(2,4)"
   ]
  },
  {
   "cell_type": "code",
   "execution_count": 16,
   "metadata": {},
   "outputs": [
    {
     "data": {
      "text/plain": [
       "[0, 2, 4, 6, 8]"
      ]
     },
     "execution_count": 16,
     "metadata": {},
     "output_type": "execute_result"
    }
   ],
   "source": [
    "# map(): Esta función aplica una función a cada elemento de un iterable (como una lista) y retorna un iterable con los resultados. \n",
    "#Este resultado no muestra los elementos individuales, sino simplemente la representación del objeto map. Para ver los resultados reales, necesitas convertir el objeto map en una lista\n",
    "\n",
    "numeros = list(range(5))\n",
    "list(map(lambda x: x*2,numeros))"
   ]
  },
  {
   "cell_type": "code",
   "execution_count": 18,
   "metadata": {},
   "outputs": [
    {
     "data": {
      "text/plain": [
       "[0, 2, 4]"
      ]
     },
     "execution_count": 18,
     "metadata": {},
     "output_type": "execute_result"
    }
   ],
   "source": [
    "# filter(): Esta función filtra elementos de un iterable basado en si la función devuelve True o False. La sintaxis básica es similar a map()\n",
    "\n",
    "list(filter(lambda x: x%2 == 0,numeros))"
   ]
  },
  {
   "cell_type": "code",
   "execution_count": 25,
   "metadata": {},
   "outputs": [
    {
     "name": "stdout",
     "output_type": "stream",
     "text": [
      "10\n"
     ]
    }
   ],
   "source": [
    "# reduce(): Esta función aplica una función de manera acumulativa a los elementos de un iterable, de izquierda a derecha, reduciéndolos a un solo valor.\n",
    "\n",
    "from functools import reduce\n",
    "\n",
    "#Sumar todos los elementos de una lista\n",
    "print(reduce(lambda x,y: x+y, numeros))"
   ]
  }
 ],
 "metadata": {
  "kernelspec": {
   "display_name": "Python 3",
   "language": "python",
   "name": "python3"
  },
  "language_info": {
   "codemirror_mode": {
    "name": "ipython",
    "version": 3
   },
   "file_extension": ".py",
   "mimetype": "text/x-python",
   "name": "python",
   "nbconvert_exporter": "python",
   "pygments_lexer": "ipython3",
   "version": "3.12.3"
  }
 },
 "nbformat": 4,
 "nbformat_minor": 2
}
