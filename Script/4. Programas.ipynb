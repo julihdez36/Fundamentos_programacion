{
 "cells": [
  {
   "cell_type": "code",
   "execution_count": 3,
   "metadata": {},
   "outputs": [
    {
     "name": "stdout",
     "output_type": "stream",
     "text": [
      "[4, 3, 6, 7]\n"
     ]
    }
   ],
   "source": [
    "'''\n",
    "Escribir un programa en Python que declare una lista y la vaya llenando de números hasta\n",
    "que introduzcamos un número negativo. Entonces se debe imprimir el vector (sólo los\n",
    "valores introducidos).\n",
    "'''\n",
    "\n",
    "lista = []\n",
    "\n",
    "numero = int(input('Escriba un número positivo'))\n",
    "\n",
    "while numero > 0:\n",
    "    lista.append(numero)\n",
    "    numero = int(input('Escriba un número positivo'))\n",
    "    \n",
    "\n",
    "print(lista)"
   ]
  },
  {
   "cell_type": "code",
   "execution_count": 5,
   "metadata": {},
   "outputs": [
    {
     "data": {
      "text/plain": [
       "[2, 4, 6, 8, 10]"
      ]
     },
     "execution_count": 5,
     "metadata": {},
     "output_type": "execute_result"
    }
   ],
   "source": [
    "'''\n",
    "Escribir un programa en Python que declare tres listas ‘lista1’, ‘lista2’ y ‘lista3’ de cinco enteros cada uno, pida valores para ‘lista1’ y ‘lista2’ y calcule lista3=lista1+lista2.\n",
    "'''\n",
    "\n",
    "lista1 = []\n",
    "lista2 = []\n",
    "lista3 = []\n",
    "\n",
    "for i in range(1,6):\n",
    "    lista1.append(int(input('Agregue el elemento %d del vector 1' %i)))\n",
    "for i in range(1,6):\n",
    "    lista2.append(int(input('Agregue el elemento %d del vector 2' %i)))\n",
    "\n",
    "for i in range(5):\n",
    "    lista3.append(lista1[i]+lista2[i])\n",
    "\n",
    "lista3"
   ]
  },
  {
   "cell_type": "code",
   "execution_count": 4,
   "metadata": {},
   "outputs": [
    {
     "data": {
      "text/plain": [
       "30"
      ]
     },
     "execution_count": 4,
     "metadata": {},
     "output_type": "execute_result"
    }
   ],
   "source": [
    "'''\n",
    "Escribir un programa en Python que guarde la temperatura mínima y máxima de los\n",
    "últimos 5 días. El programa debe recibir la información, almacenarla y mostrar:\n",
    "● La temperatura media de cada día\n",
    "● Los días con menor temperatura\n",
    "● Después de almacenar la información de los 5 días, el programa debe recinir una\n",
    "temperatura más por teclado y mostrar los días cuya temperatura máxima coincide\n",
    "con ella. si no existe ningún día se muestra un mensaje de información.\n",
    "'''\n",
    "\n",
    "temperaturas = []\n",
    "for i in range(1,6):\n",
    "\ttemperatura = []\n",
    "\ttemperatura.append(int(input(\"Día %d. Temperatura máxima:\" % i)))\n",
    "\ttemperatura.append(int(input(\"Día %d. Temperatura mínima:\" % i)))\n",
    "\ttemperaturas.append(temperatura)\n",
    "\n",
    "# Temperatura media\n",
    "\n",
    "indice = 1\n",
    "for temperatura in temperaturas:\n",
    "\tprint(\"Día %d. Temperatura media: %f:\" % (indice,sum(temperatura)/len(temperatura)))\n",
    "\tindice += 1\n",
    "\n",
    "# Calcular temperatura mínima más pequeña\n",
    "# Supongo que es la primera\n",
    "temp_min = temperaturas[0][1];\n",
    "for temperatura in temperaturas:\n",
    "\tif temperatura[1] < temp_min:\n",
    "\t\ttemp_min = temperatura[1]\n",
    "\n",
    "# Mostrar los días con menos temperatura\n",
    "\n",
    "indice = 1\n",
    "for temperatura in temperaturas:\n",
    "\tif temperatura[1] == temp_min:\n",
    "\t\tprint(\"Día %d\" % indice)\n",
    "\tindice +=1\n",
    "\t\n",
    "# Días con temperatura máxima\n",
    "existe_temperatura = False\n",
    "print(\"Días con temperatura máxima\")\n",
    "print(\"===========================\")\n",
    "temp_max = int(input(\"Introduce una temperatura:\"))\n",
    "indice = 1\n",
    "for temperatura in temperaturas:\n",
    "\tif temperatura[0] == temp_max:\n",
    "\t\tprint(\"Día %d\" % indice)\n",
    "\t\texiste_temperatura = True\n",
    "\tindice +=1\n",
    "if not existe_temperatura:\n",
    "\tprint(\"No hay ningún día con dicha temperatura.\")\n"
   ]
  },
  {
   "cell_type": "code",
   "execution_count": 11,
   "metadata": {},
   "outputs": [
    {
     "name": "stdout",
     "output_type": "stream",
     "text": [
      "Tu estimacion es muy baja\n",
      "Tu estimación es muy alta\n",
      "Tu estimación es muy alta\n",
      "Tu estimación es muy alta\n",
      "Tu estimación es muy alta\n",
      "Tu estimación es muy alta\n",
      "Tu estimación es muy alta\n",
      "Tu estimación es muy alta\n",
      "Tu estimación es muy alta\n",
      "Tu estimacion es muy baja\n",
      "No lo has logrado, el número era 17\n"
     ]
    }
   ],
   "source": [
    "'''\n",
    "Crea un programa en Python que permita adivinar un número. La aplicación genera un\n",
    "número aleatorio del 1 al 100. A continuación, va pidiendo números y va respondiendo si\n",
    "el número a adivinar es mayor o menor que el introducido, así como el número de intentos\n",
    "que quedan, se contarán con 10 intentos para adivinar el número). El programa termina\n",
    "cuando se acierta el número y debe indicar en que intento fue acertado, si se llega al límite\n",
    "de intentos, el programa debe mostrar que se había generado.\n",
    "'''\n",
    "\n",
    "import random \n",
    "\n",
    "numero = random.randint(1,100)\n",
    "intentos = 0\n",
    "\n",
    "while intentos < 10:\n",
    "    estimacion = int(input('Escribe tu primer número'))\n",
    "    intentos +=1\n",
    "    if numero < estimacion:\n",
    "        print('Tu estimación es muy alta')\n",
    "    if numero > estimacion:\n",
    "        print('Tu estimacion es muy baja')\n",
    "    if numero == estimacion:\n",
    "        break\n",
    "\n",
    "if numero == estimacion:\n",
    "    print(f'Bien hecho, el número era {numero}. Has adivinado mi número en {intentos} intentos')\n",
    "\n",
    "if numero != estimacion:\n",
    "    print(f'No lo has logrado, el número era {numero}')"
   ]
  }
 ],
 "metadata": {
  "kernelspec": {
   "display_name": "Python 3",
   "language": "python",
   "name": "python3"
  },
  "language_info": {
   "codemirror_mode": {
    "name": "ipython",
    "version": 3
   },
   "file_extension": ".py",
   "mimetype": "text/x-python",
   "name": "python",
   "nbconvert_exporter": "python",
   "pygments_lexer": "ipython3",
   "version": "3.12.3"
  }
 },
 "nbformat": 4,
 "nbformat_minor": 2
}
