{
 "cells": [
  {
   "cell_type": "markdown",
   "id": "8622aabe",
   "metadata": {},
   "source": [
    "# Programación orientada a objetos\n",
    "- paradigma de programación introducido en los años 1970s\n",
    "- Organiza el código de una manera que se asemeja bastante a como pensamos en la vida real, utilizando clases. Estas nos permiten agrupar un conjunto de variables y funciones.\n",
    "- Las clases tienen características denominadas **atributos** y funcionalidades llamadas **Métodos**\n",
    "- Las clases son contenedores abstractos, como el concepto perro; cuando este se materializa en un objeto concreto, un perro particular, lo llamamos **objeto** o instancia de la clase.\n",
    "\n",
    "POO se va en 6 principios\n",
    "\n",
    "- Herencia\n",
    "- Cohesión\n",
    "- Polimorfismo\n",
    "- Acoplamiento\n",
    "- Encapsulamiento\n"
   ]
  }
 ],
 "metadata": {
  "language_info": {
   "name": "python"
  }
 },
 "nbformat": 4,
 "nbformat_minor": 5
}
