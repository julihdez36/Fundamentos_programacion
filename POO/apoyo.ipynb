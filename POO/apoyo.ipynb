{
 "cells": [
  {
   "cell_type": "code",
   "execution_count": null,
   "id": "2a5066a5",
   "metadata": {},
   "outputs": [
    {
     "name": "stdout",
     "output_type": "stream",
     "text": [
      "<class '__main__.Auto'>\n",
      "0\n"
     ]
    }
   ],
   "source": [
    "# clases\n",
    "\n",
    "class Auto: # la primera letra de una clase debe estar en mayuscula\n",
    "    marca = ''\n",
    "    modelo = 0\n",
    "    placa = ''\n",
    "\n",
    "taxi = Auto() #instanciamos la clase\n",
    "\n",
    "print(type(taxi))\n",
    "print(taxi.modelo)"
   ]
  },
  {
   "cell_type": "code",
   "execution_count": 3,
   "id": "1cdaf466",
   "metadata": {},
   "outputs": [
    {
     "name": "stdout",
     "output_type": "stream",
     "text": [
      "victor\n"
     ]
    }
   ],
   "source": [
    "class Persona:\n",
    "    doctor = 'victor'\n",
    "\n",
    "print(Persona.doctor)"
   ]
  },
  {
   "cell_type": "code",
   "execution_count": null,
   "id": "3e0e6844",
   "metadata": {},
   "outputs": [
    {
     "name": "stdout",
     "output_type": "stream",
     "text": [
      "30\n",
      "bolivia\n",
      "<class '__main__.Nombre'>\n"
     ]
    }
   ],
   "source": [
    "class Nombre:\n",
    "    pass # es como pausar la creación, después le podemos asignar contenido\n",
    "\n",
    "# podemos asignar objetos\n",
    "victor = Nombre()\n",
    "maria = Nombre()\n",
    "\n",
    "# Ahora demosle un atributo a los objetos\n",
    "victor.edad = 30\n",
    "victor.sexo = 'Masculino'\n",
    "victor.pais = 'bolivia'\n",
    "\n",
    "maria.edad = 30\n",
    "maria.sexo = 'Masculino'\n",
    "maria.pais = 'bolivia'\n",
    "\n",
    "print(maria.edad)\n",
    "print(victor.pais)\n",
    "print(type(maria))"
   ]
  },
  {
   "cell_type": "code",
   "execution_count": null,
   "id": "3f7790a6",
   "metadata": {},
   "outputs": [],
   "source": [
    "# Métodos: funciones dentro de una clase\n",
    "\n",
    "class Matematica:\n",
    "    def suma(self): # definamos método\n",
    "        self.n1 = 2 # nombre de variable = algoritmo \n",
    "        self.n2 = 3\n",
    "\n",
    "s = Matematica()\n",
    "s.suma()\n",
    "\n",
    "print(s.n1 + s.n2)"
   ]
  },
  {
   "cell_type": "code",
   "execution_count": 6,
   "id": "f43af3a3",
   "metadata": {},
   "outputs": [
    {
     "name": "stdout",
     "output_type": "stream",
     "text": [
      "willow\n"
     ]
    }
   ],
   "source": [
    "# un método especial que sirve como constructor es el __init__\n",
    "# __init__ es como iniciar o empezar\n",
    "\n",
    "class Ropa:\n",
    "    def __init__(self):\n",
    "        self.marca = 'willow'\n",
    "        self.talla = 'M'\n",
    "        self.color = 'rojo'\n",
    "\n",
    "camisa = Ropa()\n",
    "print(camisa.marca)"
   ]
  },
  {
   "cell_type": "code",
   "execution_count": 7,
   "id": "5da8e717",
   "metadata": {},
   "outputs": [
    {
     "name": "stdout",
     "output_type": "stream",
     "text": [
      "6\n"
     ]
    }
   ],
   "source": [
    "class Calculadora:\n",
    "    def __init__(self,n1,n2):\n",
    "        self.suma = n1 + n2\n",
    "        self.resta = n1 - n2\n",
    "        self.producto = n1 * n2\n",
    "        self.division = n1 / n2\n",
    "\n",
    "operacion = Calculadora(2,3)\n",
    "print(operacion.producto)"
   ]
  },
  {
   "cell_type": "code",
   "execution_count": null,
   "id": "aa742511",
   "metadata": {},
   "outputs": [],
   "source": []
  }
 ],
 "metadata": {
  "kernelspec": {
   "display_name": "Python 3",
   "language": "python",
   "name": "python3"
  },
  "language_info": {
   "codemirror_mode": {
    "name": "ipython",
    "version": 3
   },
   "file_extension": ".py",
   "mimetype": "text/x-python",
   "name": "python",
   "nbconvert_exporter": "python",
   "pygments_lexer": "ipython3",
   "version": "3.12.10"
  }
 },
 "nbformat": 4,
 "nbformat_minor": 5
}
