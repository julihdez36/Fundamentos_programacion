{
 "cells": [
  {
   "cell_type": "code",
   "execution_count": 1,
   "id": "d19b3a43",
   "metadata": {},
   "outputs": [],
   "source": [
    "# Definiendo clases\n",
    "\n",
    "# Creando una clase vacía\n",
    "\n",
    "class Perro:\n",
    "    pass # evita el mensaje de erro"
   ]
  },
  {
   "cell_type": "code",
   "execution_count": 4,
   "id": "1e28f887",
   "metadata": {},
   "outputs": [
    {
     "data": {
      "text/plain": [
       "__main__.Perro"
      ]
     },
     "execution_count": 4,
     "metadata": {},
     "output_type": "execute_result"
    }
   ],
   "source": [
    "# Creamos un objeto de la clase perro\n",
    "mi_perro = Perro()\n",
    "\n",
    "type(mi_perro)"
   ]
  },
  {
   "cell_type": "code",
   "execution_count": null,
   "id": "cc750e72",
   "metadata": {},
   "outputs": [],
   "source": [
    "'''\n",
    "Añadiendo atributos:\n",
    "\n",
    "Existen dos tipos de atributos:\n",
    "\n",
    "- Atributos de instancia: Pertenecen a la instancia de la clase o al objeto. Son atributos particulares de cada instancia, en nuestro caso de cada perro.\n",
    "- Atributos de clase: Se trata de atributos que pertenecen a la clase, por lo tanto serán comunes para todos los objetos.\n",
    "\n",
    "'''\n",
    "\n",
    "class Perro:\n",
    "    # El método __init__ es llamado al crear el objeto\n",
    "    def __init__(self, nombre, raza):\n",
    "        print(f\"Creando perro {nombre}, {raza}\")\n",
    "\n",
    "        # Atributos de instancia\n",
    "        self.nombre = nombre\n",
    "        self.raza = raza\n",
    "\n",
    "# el self que se pasa como parámetro de entrada del método es una variable que representa la instancia de la clase, y deberá estar siempre ahí."
   ]
  },
  {
   "cell_type": "code",
   "execution_count": 12,
   "id": "aaada967",
   "metadata": {},
   "outputs": [
    {
     "name": "stdout",
     "output_type": "stream",
     "text": [
      "Creando perro Toby, Bulldog\n",
      "<class '__main__.Perro'>\n"
     ]
    }
   ],
   "source": [
    "# Creaos el objeto pasando el valor de los atributos\n",
    "\n",
    "mi_perro = Perro(\"Toby\", \"Bulldog\")\n",
    "print(type(mi_perro))"
   ]
  },
  {
   "cell_type": "code",
   "execution_count": 13,
   "id": "93a560fd",
   "metadata": {},
   "outputs": [
    {
     "name": "stdout",
     "output_type": "stream",
     "text": [
      "Toby\n",
      "Bulldog\n"
     ]
    }
   ],
   "source": [
    "print(mi_perro.nombre) # Toby\n",
    "print(mi_perro.raza)   # Bulldog"
   ]
  },
  {
   "cell_type": "code",
   "execution_count": 14,
   "id": "5436533e",
   "metadata": {},
   "outputs": [],
   "source": [
    "# Los anteriores son atributos de instnaicas (de cada perro), veamos ahora los atributos de clase (para todos los perros)\n",
    "\n",
    "class Perro:\n",
    "    # Atributo de clase\n",
    "    especie = 'mamifero'\n",
    "\n",
    "    # EL método __init__ es llamado al crear el objeto\n",
    "    def __init__(self, nombre, raza):\n",
    "        print(f'Creando perro {nombre}, {raza}')\n",
    "\n",
    "        # atributos de instancia\n",
    "        self.nombre = nombre\n",
    "        self.raza = raza"
   ]
  },
  {
   "cell_type": "code",
   "execution_count": 15,
   "id": "90f58764",
   "metadata": {},
   "outputs": [
    {
     "name": "stdout",
     "output_type": "stream",
     "text": [
      "mamifero\n"
     ]
    }
   ],
   "source": [
    "# AL ser una tributo de clase, no es necesario crear un objeto\n",
    "print(Perro.especie) "
   ]
  },
  {
   "cell_type": "code",
   "execution_count": 16,
   "id": "6299cd8b",
   "metadata": {},
   "outputs": [
    {
     "name": "stdout",
     "output_type": "stream",
     "text": [
      "Creando perro Toby, Bulldog\n"
     ]
    },
    {
     "data": {
      "text/plain": [
       "'mamifero'"
      ]
     },
     "execution_count": 16,
     "metadata": {},
     "output_type": "execute_result"
    }
   ],
   "source": [
    "# Pero podemos crear un objeto y acceder al atributo desde el objeto\n",
    "mi_perro = Perro(\"Toby\", \"Bulldog\")\n",
    "mi_perro.especie"
   ]
  },
  {
   "cell_type": "markdown",
   "id": "1d6fcd2f",
   "metadata": {},
   "source": [
    "### Definiendo métodos"
   ]
  },
  {
   "cell_type": "code",
   "execution_count": 17,
   "id": "6c085121",
   "metadata": {},
   "outputs": [],
   "source": [
    "class Perro:\n",
    "    # Atributo de clase\n",
    "    especie = 'mamifero'\n",
    "\n",
    "    # Método __init__ es llamado al crear el objeto\n",
    "    def __init__(self, nombre, raza):\n",
    "        print(f'Creando perro {nombre}, {raza}')\n",
    "        \n",
    "        # Atributo de instancia\n",
    "        self.nombre = nombre\n",
    "        self.raza = raza\n",
    "    \n",
    "    def ladra(self):\n",
    "        print('Guau')\n",
    "\n",
    "    def camina (self, pasos):\n",
    "        print(f'CaminandoP {pasos} pasos')"
   ]
  },
  {
   "cell_type": "code",
   "execution_count": 18,
   "id": "0a18d38d",
   "metadata": {},
   "outputs": [
    {
     "name": "stdout",
     "output_type": "stream",
     "text": [
      "Creando perro Toby, Bulldog\n",
      "Guau\n",
      "CaminandoP 10 pasos\n"
     ]
    }
   ],
   "source": [
    "mi_perro = Perro(\"Toby\", \"Bulldog\")\n",
    "mi_perro.ladra()\n",
    "mi_perro.camina(10)"
   ]
  },
  {
   "cell_type": "code",
   "execution_count": 19,
   "id": "6313d322",
   "metadata": {},
   "outputs": [],
   "source": [
    "# Métodos de instnaicas\n",
    "\n",
    "class Clase:\n",
    "    def metodo(self, arg1, arg2):\n",
    "        return 'Método normal', self"
   ]
  }
 ],
 "metadata": {
  "kernelspec": {
   "display_name": "Python 3",
   "language": "python",
   "name": "python3"
  },
  "language_info": {
   "codemirror_mode": {
    "name": "ipython",
    "version": 3
   },
   "file_extension": ".py",
   "mimetype": "text/x-python",
   "name": "python",
   "nbconvert_exporter": "python",
   "pygments_lexer": "ipython3",
   "version": "3.12.10"
  }
 },
 "nbformat": 4,
 "nbformat_minor": 5
}
