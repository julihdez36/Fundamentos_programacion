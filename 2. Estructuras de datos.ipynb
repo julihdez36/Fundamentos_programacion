{
 "cells": [
  {
   "cell_type": "markdown",
   "metadata": {},
   "source": [
    "## 2. Estructuras básicas de de datos\n",
    "En python existen 3 estructuras básicas de datos: listas, tuplas, diccionarios\n",
    "\n",
    "### Listas\n",
    "Las listas son la estructura de datos mas usada (array, vector): los elementos se separan por coma, podemos alojar diferentes tipos de elementos, son **mutables**"
   ]
  },
  {
   "cell_type": "code",
   "execution_count": null,
   "metadata": {},
   "outputs": [
    {
     "name": "stdout",
     "output_type": "stream",
     "text": [
      "[1, 2, 3, 4, 5, 6, 7, 8, 9, 10]\n"
     ]
    }
   ],
   "source": [
    "num = [] #decalarar lista\n",
    "num = [1,2,3,4,5,6,7,8,9,10]\n",
    "print(num)"
   ]
  },
  {
   "cell_type": "code",
   "execution_count": null,
   "metadata": {},
   "outputs": [
    {
     "name": "stdout",
     "output_type": "stream",
     "text": [
      "[1, 3, 5, 7, 9, 11, 13, 15, 17, 19]\n",
      "<class 'list'>\n"
     ]
    }
   ],
   "source": [
    "num = list(range(1,21,2)) #start, stop, step\n",
    "print(num)\n",
    "print(type(num))"
   ]
  },
  {
   "cell_type": "code",
   "execution_count": null,
   "metadata": {},
   "outputs": [
    {
     "name": "stdout",
     "output_type": "stream",
     "text": [
      "[1, 3, 5, 7, 12, 11, 13, 15, 17, 19]\n"
     ]
    }
   ],
   "source": [
    "# indexing\n",
    "num[4] = 12\n",
    "print(lis_2 )"
   ]
  },
  {
   "cell_type": "code",
   "execution_count": null,
   "metadata": {},
   "outputs": [
    {
     "data": {
      "text/plain": [
       "[1, 5, 9, 13, 17]"
      ]
     },
     "metadata": {},
     "output_type": "display_data"
    }
   ],
   "source": [
    "lis_2 [:5] #del inicio hasta el indice 5\n",
    "lis_2 [:] # del inicio hasta el fin\n",
    "lis_2 [::2] # start, stop, step"
   ]
  },
  {
   "cell_type": "code",
   "execution_count": null,
   "metadata": {},
   "outputs": [
    {
     "name": "stdout",
     "output_type": "stream",
     "text": [
      "[2, 6, 8, 7, 9, 11, 13, 15, 17, 19]\n"
     ]
    }
   ],
   "source": [
    "lis_2 [:3] = [2,6,8]\n",
    "print(lis_2 )"
   ]
  },
  {
   "cell_type": "code",
   "execution_count": null,
   "metadata": {},
   "outputs": [
    {
     "name": "stdout",
     "output_type": "stream",
     "text": [
      "[2, 6, 8, 7, 9, 11, 13, 15, 17, 19, 21]\n"
     ]
    }
   ],
   "source": [
    "# Métodos en las listas\n",
    "# CRUD: create, read, update and delete (Consultas SQL)\n",
    "\n",
    "#Update\n",
    "\n",
    "lis_2 .append(21) #Agrega un nuevo elemento al final\n",
    "print(num)"
   ]
  },
  {
   "cell_type": "code",
   "execution_count": null,
   "metadata": {},
   "outputs": [
    {
     "data": {
      "text/plain": [
       "['Hola', 2, 6, 8, 7, 9, 11, 13, 15, 17, 19, 21]"
      ]
     },
     "metadata": {},
     "output_type": "display_data"
    }
   ],
   "source": [
    "num.insert(0,'Hola') #inserta la palabra en la indexación dada\n",
    "num"
   ]
  },
  {
   "cell_type": "code",
   "execution_count": null,
   "metadata": {},
   "outputs": [
    {
     "data": {
      "text/plain": [
       "1"
      ]
     },
     "metadata": {},
     "output_type": "display_data"
    }
   ],
   "source": [
    "num.index(2) #en qué posición está el argumento"
   ]
  },
  {
   "cell_type": "code",
   "execution_count": null,
   "metadata": {},
   "outputs": [
    {
     "data": {
      "text/plain": [
       "19"
      ]
     },
     "metadata": {},
     "output_type": "display_data"
    }
   ],
   "source": [
    "num.pop(0) #Elimina la posición que le damos"
   ]
  },
  {
   "cell_type": "code",
   "execution_count": null,
   "metadata": {},
   "outputs": [
    {
     "name": "stdout",
     "output_type": "stream",
     "text": [
      "[2, 6, 8, 7, 9, 11, 13, 15, 17, 19, 21]\n",
      "[2, 6, 8, 7, 9, 11, 13, 15, 17, 19]\n"
     ]
    }
   ],
   "source": [
    "print(num)\n",
    "num.pop() # Elimina el último\n",
    "print(num)"
   ]
  },
  {
   "cell_type": "code",
   "execution_count": null,
   "metadata": {},
   "outputs": [
    {
     "name": "stdout",
     "output_type": "stream",
     "text": [
      "[2, 6, 7, 8, 9, 11, 13, 15, 17, 19]\n"
     ]
    }
   ],
   "source": [
    "num.sort() #Ordena de manera ascendente\n",
    "print(num)"
   ]
  },
  {
   "cell_type": "code",
   "execution_count": null,
   "metadata": {},
   "outputs": [
    {
     "name": "stdout",
     "output_type": "stream",
     "text": [
      "[19, 17, 15, 13, 11, 9, 8, 7, 6, 2]\n"
     ]
    }
   ],
   "source": [
    "num.reverse() #Ordena descendentemente\n",
    "print(num)"
   ]
  },
  {
   "cell_type": "code",
   "execution_count": null,
   "metadata": {},
   "outputs": [
    {
     "name": "stdout",
     "output_type": "stream",
     "text": [
      "generamos lista:  [1, 3, 5, 7, 9, 11, 13, 15, 17, 19]\n",
      "Cambiamos orden:\n",
      "Remplazamos datos:  [19, 17, 15, 13, 11, 111, 7, 5, 3, 300]\n"
     ]
    }
   ],
   "source": [
    "#Create\n",
    "# Creen una lista que de numeros impares desde 1 hasta 20\n",
    "# Lo ordenen de manera descendente\n",
    "# Remplacen el número 3 por 300 y el 11 por 111\n",
    "\n",
    "lis_2 = list(range(1,21,2))\n",
    "print('generamos lista: ', lis_2 )\n",
    "lis_2 .reverse()\n",
    "print('Cambiamos orden:', )\n",
    "lis_2 [9] = 300\n",
    "lis_2 [5] = 111\n",
    "print('Remplazamos datos: ', lis_2 )"
   ]
  },
  {
   "cell_type": "code",
   "execution_count": null,
   "metadata": {},
   "outputs": [
    {
     "data": {
      "text/plain": [
       "[19, 17, 15, 13, 11, 111, 7, 5, 3, 300, 1, 3, 5, 7, 9, 11, 13, 15, 17, 19]"
      ]
     },
     "metadata": {},
     "output_type": "display_data"
    }
   ],
   "source": [
    "lis_2 + num #Fusionar listas"
   ]
  },
  {
   "cell_type": "code",
   "execution_count": null,
   "metadata": {},
   "outputs": [
    {
     "name": "stdout",
     "output_type": "stream",
     "text": [
      "<class 'dict'>\n"
     ]
    }
   ],
   "source": [
    "##########################\n",
    "##### Diccionarios #######\n",
    "# Indexación\n",
    "\n",
    "dic = {}\n",
    "print(type(dic))"
   ]
  },
  {
   "cell_type": "code",
   "execution_count": null,
   "metadata": {},
   "outputs": [],
   "source": [
    "dic = {\n",
    "    'Columna 1': list(range(1,11)),\n",
    "    'Columna 2': list(range(10,21)),\n",
    "    'Columna 3': list(range(20,31))\n",
    "}"
   ]
  },
  {
   "cell_type": "code",
   "execution_count": null,
   "metadata": {},
   "outputs": [
    {
     "name": "stdout",
     "output_type": "stream",
     "text": [
      "{'Columna 1': [1, 2, 3, 4, 5, 6, 7, 8, 9, 10], 'Columna 2': [10, 11, 12, 13, 14, 15, 16, 17, 18, 19, 20], 'Columna 3': [20, 21, 22, 23, 24, 25, 26, 27, 28, 29, 30]}\n"
     ]
    }
   ],
   "source": [
    "print(dic)"
   ]
  },
  {
   "cell_type": "code",
   "execution_count": null,
   "metadata": {},
   "outputs": [
    {
     "name": "stdout",
     "output_type": "stream",
     "text": [
      "[1, 2, 3, 4, 5, 6, 7, 8, 9, 10]\n"
     ]
    }
   ],
   "source": [
    "print(dic['Columna 1'])"
   ]
  },
  {
   "cell_type": "code",
   "execution_count": null,
   "metadata": {},
   "outputs": [],
   "source": []
  },
  {
   "cell_type": "code",
   "execution_count": null,
   "metadata": {},
   "outputs": [
    {
     "name": "stdout",
     "output_type": "stream",
     "text": [
      "{'One': 1, 'Two': 2, 'Three': 3, 'Four': 4}\n"
     ]
    }
   ],
   "source": [
    "# Dictionary example\n",
    "\n",
    "dic_1 = {'One': 1,\n",
    "         'Two': 2,\n",
    "         'Three': 3,\n",
    "         'Four': 4\n",
    "         }\n",
    "\n",
    "print(dic_1)"
   ]
  },
  {
   "cell_type": "code",
   "execution_count": null,
   "metadata": {},
   "outputs": [
    {
     "name": "stdout",
     "output_type": "stream",
     "text": [
      "1\n",
      "3\n"
     ]
    }
   ],
   "source": [
    "# Dictionary indexing (key)\n",
    "\n",
    "print(dic_1['One'])\n",
    "print(dic_1['Three'])"
   ]
  },
  {
   "cell_type": "code",
   "execution_count": null,
   "metadata": {},
   "outputs": [
    {
     "name": "stdout",
     "output_type": "stream",
     "text": [
      "{'nombres': ['Juan', 'Pedro', 'Maria'], 'edades': [20, 10, 15]}\n",
      "['Juan', 'Pedro', 'Maria']\n",
      "Pedro\n",
      "10\n"
     ]
    }
   ],
   "source": [
    "#combination of dictionaries and lists\n",
    "\n",
    "comb_1 = {\n",
    "    'nombres': ['Juan', 'Pedro', 'Maria'],\n",
    "    'edades': [20, 10, 15]\n",
    "}\n",
    "print(comb_1)\n",
    "print(comb_1['nombres'])\n",
    "print(comb_1['nombres'][1])\n",
    "print(comb_1['edades'][1])"
   ]
  },
  {
   "cell_type": "code",
   "execution_count": null,
   "metadata": {},
   "outputs": [
    {
     "name": "stdout",
     "output_type": "stream",
     "text": [
      "[{'nombre': 'Juan', 'edad': 20}, {'nombre': 'Pedro', 'edad': 20}, {'nombre': 'Maria', 'edad': 15}]\n",
      "Pedro\n",
      "20\n"
     ]
    }
   ],
   "source": [
    "# dictionary lists\n",
    "\n",
    "mi_otra_com = [\n",
    "    {\n",
    "        'nombre': 'Juan',\n",
    "        'edad': 20\n",
    "    },\n",
    "    {\n",
    "        'nombre': 'Pedro',\n",
    "        'edad': 20\n",
    "    },\n",
    "    {\n",
    "        'nombre': 'Maria',\n",
    "        'edad': 15\n",
    "    },\n",
    "]\n",
    "\n",
    "print(mi_otra_com)\n",
    "print(mi_otra_com[1]['nombre'])\n",
    "print(mi_otra_com[1]['edad'])"
   ]
  },
  {
   "cell_type": "markdown",
   "metadata": {},
   "source": [
    "## Para casa\n",
    "\n",
    "1. Crear una lista que contenga los números impares del 1 al 100\n",
    "2. Crear un diccionario que tenga tres listas que vayan de: 0 al 9, 10 al 19 y 20 a 29.\n",
    "3. Cree una lista que contenga 3 listas de 3 registros cada una. Imprima el segundo valor del tercer registro.\n",
    "4. Crre un diccionario con 3 diccionarios donde cada diccionario registre tres valores cualesquiera (ejm. nombre, sexo, edad)"
   ]
  }
 ],
 "metadata": {
  "language_info": {
   "name": "python"
  }
 },
 "nbformat": 4,
 "nbformat_minor": 2
}
